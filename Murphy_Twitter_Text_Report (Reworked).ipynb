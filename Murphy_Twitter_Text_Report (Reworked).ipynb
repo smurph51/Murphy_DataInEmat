{
 "cells": [
  {
   "cell_type": "markdown",
   "id": "related-orchestra",
   "metadata": {},
   "source": [
    "## My Twitter Text Report (Reworked)\n",
    "By Spencer Murphy\n",
    "\n",
    "#### Date Created: 3/31/21\n",
    "#### Last Updated: 4/4/21\n",
    "\n",
    "\n",
    "**The purpose of this report is to acquire a data set (provided by Professor Silva) and assess its value, arguing for the quality of the data whilst summarizing any weaknesses and possible limitations.**\n",
    "\n",
    "Utilizing libraries like pandas, matplotlib, nltk along with the VADER sentiment analysis tool, I will be editing a data set that consists of Youtube comments regarding vaccine and anti-vaccine sentiment (for COVID-19). Using these comments, I plan to run a word frequency analysis and a VADER sentiment test, which will ultimately give us a good idea regarding the types of conversations that are being had. I also intend on using univariate plotting via pandas to better display the results of these tests. So, the question at hand is this: How are people feeling about the COVID-19 vaccinations? Is there more of a negative sentiment over positive, or vice-versa? Considering I've talked to people on both sides of the spectrum, I feel as if this will definitely be an exploratory analysis as I don't neccessarily have an idea on how to answer those questions yet. All of this data provided by Professor Silva comes from Youtube and is in the form of a csv file. \n",
    "\n"
   ]
  },
  {
   "cell_type": "code",
   "execution_count": 1,
   "id": "italic-recycling",
   "metadata": {},
   "outputs": [],
   "source": [
    "import pandas as pd\n",
    "from vaderSentiment.vaderSentiment import SentimentIntensityAnalyzer\n",
    "import warnings\n",
    "import matplotlib.pyplot as plt\n",
    "from datetime import datetime as dt\n"
   ]
  },
  {
   "cell_type": "markdown",
   "id": "worldwide-maker",
   "metadata": {},
   "source": [
    "Below we can see keys that will allow me to access separate parts of the csv file. Unfortunately, there are no keys for likes or engagement, so I will be unable to see how people are responding or reacting to the different comments. Including those keys could provide us with even more insight, as we'd be able to look at the most impactful comments, or the comments that are most representative of the ideals on a particular side. Simply put, we can't see which comments are receving the most attention or the least."
   ]
  },
  {
   "cell_type": "code",
   "execution_count": 2,
   "id": "generous-drinking",
   "metadata": {},
   "outputs": [
    {
     "data": {
      "text/plain": [
       "Index(['Date', 'Title', 'Url', 'Domain', 'Page Type', 'Language', 'Author',\n",
       "       'Full Name', 'Full Text', 'Original Url', 'Thread Entry Type',\n",
       "       'Page Type Name', 'Pub Type'],\n",
       "      dtype='object')"
      ]
     },
     "execution_count": 2,
     "metadata": {},
     "output_type": "execute_result"
    }
   ],
   "source": [
    "you = pd.read_csv('YouTubeVaccination_Dec14-Dec26_2021_fixed.csv')\n",
    "you.keys()\n",
    "\n"
   ]
  },
  {
   "cell_type": "markdown",
   "id": "allied-fifteen",
   "metadata": {},
   "source": [
    "Here we can see a table which neatly displays the beginning of the data. Luckily, all of the comments seem to be in English already, which means there are no comments to exclude from the data that might be in a different language."
   ]
  },
  {
   "cell_type": "code",
   "execution_count": 3,
   "id": "mexican-astronomy",
   "metadata": {
    "scrolled": false
   },
   "outputs": [
    {
     "data": {
      "text/html": [
       "<div>\n",
       "<style scoped>\n",
       "    .dataframe tbody tr th:only-of-type {\n",
       "        vertical-align: middle;\n",
       "    }\n",
       "\n",
       "    .dataframe tbody tr th {\n",
       "        vertical-align: top;\n",
       "    }\n",
       "\n",
       "    .dataframe thead th {\n",
       "        text-align: right;\n",
       "    }\n",
       "</style>\n",
       "<table border=\"1\" class=\"dataframe\">\n",
       "  <thead>\n",
       "    <tr style=\"text-align: right;\">\n",
       "      <th></th>\n",
       "      <th>Date</th>\n",
       "      <th>Title</th>\n",
       "      <th>Url</th>\n",
       "      <th>Domain</th>\n",
       "      <th>Page Type</th>\n",
       "      <th>Language</th>\n",
       "      <th>Author</th>\n",
       "      <th>Full Name</th>\n",
       "      <th>Full Text</th>\n",
       "      <th>Original Url</th>\n",
       "      <th>Thread Entry Type</th>\n",
       "      <th>Page Type Name</th>\n",
       "      <th>Pub Type</th>\n",
       "    </tr>\n",
       "  </thead>\n",
       "  <tbody>\n",
       "    <tr>\n",
       "      <th>0</th>\n",
       "      <td>12/26/2020 23:56</td>\n",
       "      <td>Comment on video https://www.youtube.com/watch...</td>\n",
       "      <td>https://www.youtube.com/watch?v=sT80A5uPREolc=...</td>\n",
       "      <td>youtube.com</td>\n",
       "      <td>youtube</td>\n",
       "      <td>en</td>\n",
       "      <td>RJ MacReady</td>\n",
       "      <td>RJ MacReady</td>\n",
       "      <td>I got the Moderna vaccine, hereâ€™s my list of...</td>\n",
       "      <td>https://www.youtube.com/watch?v=sT80A5uPREolc=...</td>\n",
       "      <td>reply</td>\n",
       "      <td>YouTube</td>\n",
       "      <td>VCOMMENT</td>\n",
       "    </tr>\n",
       "    <tr>\n",
       "      <th>1</th>\n",
       "      <td>12/26/2020 23:36</td>\n",
       "      <td>Comment on video https://www.youtube.com/watch...</td>\n",
       "      <td>https://www.youtube.com/watch?v=dxVCqwAD8gQlc=...</td>\n",
       "      <td>youtube.com</td>\n",
       "      <td>youtube</td>\n",
       "      <td>en</td>\n",
       "      <td>dontaskme</td>\n",
       "      <td>dontaskme</td>\n",
       "      <td>@Charlotte Haggerty Do you really believe ever...</td>\n",
       "      <td>https://www.youtube.com/watch?v=dxVCqwAD8gQlc=...</td>\n",
       "      <td>reply</td>\n",
       "      <td>YouTube</td>\n",
       "      <td>VCOMMENT</td>\n",
       "    </tr>\n",
       "    <tr>\n",
       "      <th>2</th>\n",
       "      <td>12/26/2020 23:34</td>\n",
       "      <td>Comment on video https://www.youtube.com/watch...</td>\n",
       "      <td>https://www.youtube.com/watch?v=2Wz7KvLFgYQlc=...</td>\n",
       "      <td>youtube.com</td>\n",
       "      <td>youtube</td>\n",
       "      <td>en</td>\n",
       "      <td>Salavin</td>\n",
       "      <td>Salavin</td>\n",
       "      <td>I hate it when they say \"You don't want a covi...</td>\n",
       "      <td>https://www.youtube.com/watch?v=2Wz7KvLFgYQlc=...</td>\n",
       "      <td>reply</td>\n",
       "      <td>YouTube</td>\n",
       "      <td>VCOMMENT</td>\n",
       "    </tr>\n",
       "    <tr>\n",
       "      <th>3</th>\n",
       "      <td>12/26/2020 23:30</td>\n",
       "      <td>Comment on video https://www.youtube.com/watch...</td>\n",
       "      <td>https://www.youtube.com/watch?v=dxVCqwAD8gQlc=...</td>\n",
       "      <td>youtube.com</td>\n",
       "      <td>youtube</td>\n",
       "      <td>en</td>\n",
       "      <td>dontaskme</td>\n",
       "      <td>dontaskme</td>\n",
       "      <td>@Sweet Heart Well, Quantas, an Australian airl...</td>\n",
       "      <td>https://www.youtube.com/watch?v=dxVCqwAD8gQlc=...</td>\n",
       "      <td>reply</td>\n",
       "      <td>YouTube</td>\n",
       "      <td>VCOMMENT</td>\n",
       "    </tr>\n",
       "    <tr>\n",
       "      <th>4</th>\n",
       "      <td>12/26/2020 23:27</td>\n",
       "      <td>Comment on video https://www.youtube.com/watch...</td>\n",
       "      <td>https://www.youtube.com/watch?v=7VG_s2PCH_clc=...</td>\n",
       "      <td>youtube.com</td>\n",
       "      <td>youtube</td>\n",
       "      <td>en</td>\n",
       "      <td>Kristi Allman</td>\n",
       "      <td>Kristi Allman</td>\n",
       "      <td>@AngryAngy Here they recommend a flu shot duri...</td>\n",
       "      <td>https://www.youtube.com/watch?v=7VG_s2PCH_clc=...</td>\n",
       "      <td>reply</td>\n",
       "      <td>YouTube</td>\n",
       "      <td>VCOMMENT</td>\n",
       "    </tr>\n",
       "  </tbody>\n",
       "</table>\n",
       "</div>"
      ],
      "text/plain": [
       "               Date                                              Title  \\\n",
       "0  12/26/2020 23:56  Comment on video https://www.youtube.com/watch...   \n",
       "1  12/26/2020 23:36  Comment on video https://www.youtube.com/watch...   \n",
       "2  12/26/2020 23:34  Comment on video https://www.youtube.com/watch...   \n",
       "3  12/26/2020 23:30  Comment on video https://www.youtube.com/watch...   \n",
       "4  12/26/2020 23:27  Comment on video https://www.youtube.com/watch...   \n",
       "\n",
       "                                                 Url       Domain Page Type  \\\n",
       "0  https://www.youtube.com/watch?v=sT80A5uPREolc=...  youtube.com   youtube   \n",
       "1  https://www.youtube.com/watch?v=dxVCqwAD8gQlc=...  youtube.com   youtube   \n",
       "2  https://www.youtube.com/watch?v=2Wz7KvLFgYQlc=...  youtube.com   youtube   \n",
       "3  https://www.youtube.com/watch?v=dxVCqwAD8gQlc=...  youtube.com   youtube   \n",
       "4  https://www.youtube.com/watch?v=7VG_s2PCH_clc=...  youtube.com   youtube   \n",
       "\n",
       "  Language         Author      Full Name  \\\n",
       "0       en    RJ MacReady    RJ MacReady   \n",
       "1       en      dontaskme      dontaskme   \n",
       "2       en        Salavin        Salavin   \n",
       "3       en      dontaskme      dontaskme   \n",
       "4       en  Kristi Allman  Kristi Allman   \n",
       "\n",
       "                                           Full Text  \\\n",
       "0  I got the Moderna vaccine, hereâ€™s my list of...   \n",
       "1  @Charlotte Haggerty Do you really believe ever...   \n",
       "2  I hate it when they say \"You don't want a covi...   \n",
       "3  @Sweet Heart Well, Quantas, an Australian airl...   \n",
       "4  @AngryAngy Here they recommend a flu shot duri...   \n",
       "\n",
       "                                        Original Url Thread Entry Type  \\\n",
       "0  https://www.youtube.com/watch?v=sT80A5uPREolc=...             reply   \n",
       "1  https://www.youtube.com/watch?v=dxVCqwAD8gQlc=...             reply   \n",
       "2  https://www.youtube.com/watch?v=2Wz7KvLFgYQlc=...             reply   \n",
       "3  https://www.youtube.com/watch?v=dxVCqwAD8gQlc=...             reply   \n",
       "4  https://www.youtube.com/watch?v=7VG_s2PCH_clc=...             reply   \n",
       "\n",
       "  Page Type Name  Pub Type  \n",
       "0        YouTube  VCOMMENT  \n",
       "1        YouTube  VCOMMENT  \n",
       "2        YouTube  VCOMMENT  \n",
       "3        YouTube  VCOMMENT  \n",
       "4        YouTube  VCOMMENT  "
      ]
     },
     "execution_count": 3,
     "metadata": {},
     "output_type": "execute_result"
    }
   ],
   "source": [
    "you.head()"
   ]
  },
  {
   "cell_type": "markdown",
   "id": "funky-dominant",
   "metadata": {},
   "source": [
    "### Word Frequency Analysis\n",
    "\n",
    "To start this word frequency analysis, each character in every comment is lowercased as not doing so could result in error. The next steps include tokenizing each word and symbol in every comment, ridding the data of meaningless stopwords (like \"it\", \"is\", \"are\") along with punctuation, and finally stemming the now-tokens to find the root of each word. The results of this analysis will be displayed in graphs below."
   ]
  },
  {
   "cell_type": "code",
   "execution_count": 5,
   "id": "catholic-album",
   "metadata": {},
   "outputs": [
    {
     "data": {
      "text/plain": [
       "0    i got the moderna vaccine, hereâ€™s my list of...\n",
       "1    @charlotte haggerty do you really believe ever...\n",
       "2    i hate it when they say \"you don't want a covi...\n",
       "3    @sweet heart well, quantas, an australian airl...\n",
       "4    @angryangy here they recommend a flu shot duri...\n",
       "5    we don't need a corona vaccine, we need a come...\n",
       "6    i had no idea of who this guy was prior to thi...\n",
       "7    @angryangy zero medical test is done before se...\n",
       "8    @justin kirschenman i don't know about your lo...\n",
       "9    remember when the french scientist said test a...\n",
       "Name: lowercase, dtype: object"
      ]
     },
     "execution_count": 5,
     "metadata": {},
     "output_type": "execute_result"
    }
   ],
   "source": [
    "you['lowercase'] = [x.lower() for x in you['Full Text']]\n",
    "you['lowercase'].head(10)"
   ]
  },
  {
   "cell_type": "code",
   "execution_count": 6,
   "id": "adaptive-sweet",
   "metadata": {},
   "outputs": [],
   "source": [
    "warnings.filterwarnings('ignore')"
   ]
  },
  {
   "cell_type": "code",
   "execution_count": 7,
   "id": "parliamentary-mumbai",
   "metadata": {},
   "outputs": [
    {
     "data": {
      "text/plain": [
       "181"
      ]
     },
     "execution_count": 7,
     "metadata": {},
     "output_type": "execute_result"
    }
   ],
   "source": [
    "import nltk\n",
    "from nltk import tokenize as tk\n",
    "from nltk import FreqDist\n",
    "from nltk.corpus import stopwords\n",
    "import string\n",
    "from collections import Counter\n",
    "\n",
    "  \n",
    "mystopwords = stopwords.words('english')\n",
    "mystopwords.append(\"n't\")\n",
    "mystopwords.append(\"'s'\")\n",
    "len(mystopwords)"
   ]
  },
  {
   "cell_type": "code",
   "execution_count": 8,
   "id": "still-smell",
   "metadata": {},
   "outputs": [
    {
     "data": {
      "text/plain": [
       "0    [i, got, the, moderna, vaccine, ,, hereâ€™s, m...\n",
       "1    [@, charlotte, haggerty, do, you, really, beli...\n",
       "2    [i, hate, it, when, they, say, ``, you, do, n'...\n",
       "3    [@, sweet, heart, well, ,, quantas, ,, an, aus...\n",
       "4    [@, angryangy, here, they, recommend, a, flu, ...\n",
       "5    [we, do, n't, need, a, corona, vaccine, ,, we,...\n",
       "6    [i, had, no, idea, of, who, this, guy, was, pr...\n",
       "7    [@, angryangy, zero, medical, test, is, done, ...\n",
       "8    [@, justin, kirschenman, i, do, n't, know, abo...\n",
       "9    [remember, when, the, french, scientist, said,...\n",
       "Name: tokens, dtype: object"
      ]
     },
     "execution_count": 8,
     "metadata": {},
     "output_type": "execute_result"
    }
   ],
   "source": [
    "you['tokens'] = [tk.word_tokenize(x) for x in you['lowercase']]\n",
    "you['tokens'].head(10)"
   ]
  },
  {
   "cell_type": "code",
   "execution_count": 9,
   "id": "cosmetic-three",
   "metadata": {},
   "outputs": [],
   "source": [
    "filtered = []\n",
    "for i in you['tokens']:\n",
    "    filtered.append([word for word in i if word not in mystopwords])\n",
    "\n",
    "you['filtered'] = filtered"
   ]
  },
  {
   "cell_type": "markdown",
   "id": "finnish-vertex",
   "metadata": {},
   "source": [
    "The output directly below is the result of the tokenizing process for one comment. Stopwords have also been taken out of the data at this point. We can see that there are still some characters that we need to get rid of, which is why we'll tackle the exclusion of punctuation next."
   ]
  },
  {
   "cell_type": "code",
   "execution_count": 10,
   "id": "antique-thesis",
   "metadata": {
    "scrolled": true
   },
   "outputs": [
    {
     "data": {
      "text/plain": [
       "['@',\n",
       " 'charlotte',\n",
       " 'haggerty',\n",
       " 'really',\n",
       " 'believe',\n",
       " 'everything',\n",
       " 'told',\n",
       " '?',\n",
       " ',',\n",
       " 'vaccines',\n",
       " 'end',\n",
       " 'pandemic',\n",
       " '.',\n",
       " 'herd',\n",
       " 'immunization',\n",
       " '.',\n",
       " 'however',\n",
       " ',',\n",
       " 'claim',\n",
       " 'vaccine',\n",
       " '.',\n",
       " 'virus',\n",
       " 'gone',\n",
       " 'august',\n",
       " ',',\n",
       " 'btw',\n",
       " '.']"
      ]
     },
     "execution_count": 10,
     "metadata": {},
     "output_type": "execute_result"
    }
   ],
   "source": [
    "you['filtered'][1]"
   ]
  },
  {
   "cell_type": "markdown",
   "id": "previous-sleeve",
   "metadata": {},
   "source": [
    "Below we can see that keywords from the comments have been extracted very methodically and neatly, with no punctuation or uneccesary symbols and characters in sight. Now, we can look at the number of times each word is being said in our data set."
   ]
  },
  {
   "cell_type": "code",
   "execution_count": 11,
   "id": "smoking-civilization",
   "metadata": {},
   "outputs": [
    {
     "data": {
      "text/plain": [
       "['charlotte',\n",
       " 'haggerty',\n",
       " 'really',\n",
       " 'believe',\n",
       " 'everything',\n",
       " 'told',\n",
       " 'vaccines',\n",
       " 'end',\n",
       " 'pandemic',\n",
       " 'herd',\n",
       " 'immunization',\n",
       " 'however',\n",
       " 'claim',\n",
       " 'vaccine',\n",
       " 'virus',\n",
       " 'gone',\n",
       " 'august',\n",
       " 'btw']"
      ]
     },
     "execution_count": 11,
     "metadata": {},
     "output_type": "execute_result"
    }
   ],
   "source": [
    "no_punct = []\n",
    "for i in you['filtered']:\n",
    "    no_punct.append([word for word in i if word not in string.punctuation])\n",
    "\n",
    "you['no_punct'] = no_punct\n",
    "you['no_punct'][1]"
   ]
  },
  {
   "cell_type": "markdown",
   "id": "informative-convert",
   "metadata": {},
   "source": [
    "Here we can see the amount of times a word has been used in a partcular sentence, but this isn't really what we want. In order to get an accurate representation of the types of conversations going on surrounding the COVID-19 vaccine, we need to look at all the times a word is used throughout the entire data set."
   ]
  },
  {
   "cell_type": "code",
   "execution_count": 12,
   "id": "rolled-journalism",
   "metadata": {
    "scrolled": true
   },
   "outputs": [
    {
     "data": {
      "text/plain": [
       "0     {'got': 1, 'moderna': 1, 'vaccine': 1, 'hereâ€...\n",
       "1     {'charlotte': 1, 'haggerty': 1, 'really': 1, '...\n",
       "2     {'hate': 1, 'say': 1, '``': 1, 'want': 1, 'cov...\n",
       "3     {'sweet': 1, 'heart': 1, 'well': 1, 'quantas':...\n",
       "4     {'angryangy': 1, 'recommend': 1, 'flu': 5, 'sh...\n",
       "5     {'need': 3, 'corona': 1, 'vaccine': 1, 'comeba...\n",
       "6     {'idea': 1, 'guy': 1, 'prior': 1, 'interview':...\n",
       "7     {'angryangy': 1, 'zero': 1, 'medical': 1, 'tes...\n",
       "8     {'justin': 1, 'kirschenman': 1, 'know': 1, 'lo...\n",
       "9     {'remember': 1, 'french': 1, 'scientist': 1, '...\n",
       "10    {'angryangy': 1, ''ve': 1, 'said': 1, 'limit':...\n",
       "11    {'use': 1, 'brain': 1, 'please': 1, 'samiitb':...\n",
       "12    {'krish': 1, 'soni': 1, 'assuming': 1, 'englis...\n",
       "13    {'south': 1, 'african': 1, 'variant': 1, 'one'...\n",
       "14    {'part': 1, 'satan': 1, 'gates': 1, 'vaccine':...\n",
       "15    {'enough': 1, 'lies': 1, 'already': 1, 'patent...\n",
       "16    {'angryangy': 1, 'america': 3, 'different': 1,...\n",
       "17    {'love': 1, 'jre': 1, 'joe': 2, 'pretty': 2, '...\n",
       "18    {'charlie': 1, 'williamson': 1, 'look': 2, 'in...\n",
       "19    {'kristi': 1, 'allman': 1, 'first': 1, 'autism...\n",
       "Name: freqs1, dtype: object"
      ]
     },
     "execution_count": 12,
     "metadata": {},
     "output_type": "execute_result"
    }
   ],
   "source": [
    "freq1 = [FreqDist(x) for x in you['no_punct']]\n",
    "you['freqs1'] = freq1\n",
    "you['freqs1'].head(20)"
   ]
  },
  {
   "cell_type": "code",
   "execution_count": 13,
   "id": "innovative-yugoslavia",
   "metadata": {},
   "outputs": [
    {
     "data": {
      "text/plain": [
       "Counter({'charlotte': 1,\n",
       "         'haggerty': 1,\n",
       "         'really': 1,\n",
       "         'believe': 1,\n",
       "         'everything': 1,\n",
       "         'told': 1,\n",
       "         'vaccines': 1,\n",
       "         'end': 1,\n",
       "         'pandemic': 1,\n",
       "         'herd': 1,\n",
       "         'immunization': 1,\n",
       "         'however': 1,\n",
       "         'claim': 1,\n",
       "         'vaccine': 1,\n",
       "         'virus': 1,\n",
       "         'gone': 1,\n",
       "         'august': 1,\n",
       "         'btw': 1})"
      ]
     },
     "execution_count": 13,
     "metadata": {},
     "output_type": "execute_result"
    }
   ],
   "source": [
    "you['f1_counts'] = [Counter(x) for x in you['freqs1']]\n",
    "you['f1_counts'][1]"
   ]
  },
  {
   "cell_type": "code",
   "execution_count": 14,
   "id": "olive-scroll",
   "metadata": {},
   "outputs": [],
   "source": [
    "wordcounts = Counter()\n",
    "for i in you['f1_counts']:\n",
    "    wordcounts += i"
   ]
  },
  {
   "cell_type": "markdown",
   "id": "unknown-wholesale",
   "metadata": {},
   "source": [
    "Here we begin to implement pandas so that we can graph the results of the word frequency analysis. Below we can see that our process of eliminating meaningless words and characters wasn't completely successful, but in the end we still have a significant amount of keywords avaliable to tell a story."
   ]
  },
  {
   "cell_type": "code",
   "execution_count": 31,
   "id": "opposite-draft",
   "metadata": {
    "scrolled": true
   },
   "outputs": [
    {
     "data": {
      "text/html": [
       "<div>\n",
       "<style scoped>\n",
       "    .dataframe tbody tr th:only-of-type {\n",
       "        vertical-align: middle;\n",
       "    }\n",
       "\n",
       "    .dataframe tbody tr th {\n",
       "        vertical-align: top;\n",
       "    }\n",
       "\n",
       "    .dataframe thead th {\n",
       "        text-align: right;\n",
       "    }\n",
       "</style>\n",
       "<table border=\"1\" class=\"dataframe\">\n",
       "  <thead>\n",
       "    <tr style=\"text-align: right;\">\n",
       "      <th></th>\n",
       "      <th>0</th>\n",
       "    </tr>\n",
       "  </thead>\n",
       "  <tbody>\n",
       "    <tr>\n",
       "      <th>got</th>\n",
       "      <td>704</td>\n",
       "    </tr>\n",
       "    <tr>\n",
       "      <th>moderna</th>\n",
       "      <td>297</td>\n",
       "    </tr>\n",
       "    <tr>\n",
       "      <th>vaccin</th>\n",
       "      <td>20610</td>\n",
       "    </tr>\n",
       "    <tr>\n",
       "      <th>hereâ€™</th>\n",
       "      <td>17</td>\n",
       "    </tr>\n",
       "    <tr>\n",
       "      <th>list</th>\n",
       "      <td>150</td>\n",
       "    </tr>\n",
       "    <tr>\n",
       "      <th>side</th>\n",
       "      <td>832</td>\n",
       "    </tr>\n",
       "    <tr>\n",
       "      <th>effect</th>\n",
       "      <td>1773</td>\n",
       "    </tr>\n",
       "    <tr>\n",
       "      <th>https</th>\n",
       "      <td>4469</td>\n",
       "    </tr>\n",
       "    <tr>\n",
       "      <th>//youtu.be/9swygynujao</th>\n",
       "      <td>2</td>\n",
       "    </tr>\n",
       "    <tr>\n",
       "      <th>charlott</th>\n",
       "      <td>13</td>\n",
       "    </tr>\n",
       "    <tr>\n",
       "      <th>haggerti</th>\n",
       "      <td>3</td>\n",
       "    </tr>\n",
       "    <tr>\n",
       "      <th>realli</th>\n",
       "      <td>613</td>\n",
       "    </tr>\n",
       "    <tr>\n",
       "      <th>believ</th>\n",
       "      <td>911</td>\n",
       "    </tr>\n",
       "    <tr>\n",
       "      <th>everyth</th>\n",
       "      <td>407</td>\n",
       "    </tr>\n",
       "    <tr>\n",
       "      <th>told</th>\n",
       "      <td>328</td>\n",
       "    </tr>\n",
       "    <tr>\n",
       "      <th>end</th>\n",
       "      <td>552</td>\n",
       "    </tr>\n",
       "    <tr>\n",
       "      <th>pandem</th>\n",
       "      <td>881</td>\n",
       "    </tr>\n",
       "    <tr>\n",
       "      <th>herd</th>\n",
       "      <td>128</td>\n",
       "    </tr>\n",
       "    <tr>\n",
       "      <th>immun</th>\n",
       "      <td>1052</td>\n",
       "    </tr>\n",
       "    <tr>\n",
       "      <th>howev</th>\n",
       "      <td>191</td>\n",
       "    </tr>\n",
       "  </tbody>\n",
       "</table>\n",
       "</div>"
      ],
      "text/plain": [
       "                            0\n",
       "got                       704\n",
       "moderna                   297\n",
       "vaccin                  20610\n",
       "hereâ€™                    17\n",
       "list                      150\n",
       "side                      832\n",
       "effect                   1773\n",
       "https                    4469\n",
       "//youtu.be/9swygynujao      2\n",
       "charlott                   13\n",
       "haggerti                    3\n",
       "realli                    613\n",
       "believ                    911\n",
       "everyth                   407\n",
       "told                      328\n",
       "end                       552\n",
       "pandem                    881\n",
       "herd                      128\n",
       "immun                    1052\n",
       "howev                     191"
      ]
     },
     "execution_count": 31,
     "metadata": {},
     "output_type": "execute_result"
    }
   ],
   "source": [
    "counts = pd.DataFrame.from_dict(dict(wordcounts), orient='index')\n",
    "counts.head(20)"
   ]
  },
  {
   "cell_type": "code",
   "execution_count": 32,
   "id": "material-cocktail",
   "metadata": {
    "scrolled": true
   },
   "outputs": [
    {
     "data": {
      "text/html": [
       "<div>\n",
       "<style scoped>\n",
       "    .dataframe tbody tr th:only-of-type {\n",
       "        vertical-align: middle;\n",
       "    }\n",
       "\n",
       "    .dataframe tbody tr th {\n",
       "        vertical-align: top;\n",
       "    }\n",
       "\n",
       "    .dataframe thead th {\n",
       "        text-align: right;\n",
       "    }\n",
       "</style>\n",
       "<table border=\"1\" class=\"dataframe\">\n",
       "  <thead>\n",
       "    <tr style=\"text-align: right;\">\n",
       "      <th></th>\n",
       "      <th>counts</th>\n",
       "    </tr>\n",
       "  </thead>\n",
       "  <tbody>\n",
       "    <tr>\n",
       "      <th>got</th>\n",
       "      <td>704</td>\n",
       "    </tr>\n",
       "    <tr>\n",
       "      <th>moderna</th>\n",
       "      <td>297</td>\n",
       "    </tr>\n",
       "    <tr>\n",
       "      <th>vaccin</th>\n",
       "      <td>20610</td>\n",
       "    </tr>\n",
       "    <tr>\n",
       "      <th>hereâ€™</th>\n",
       "      <td>17</td>\n",
       "    </tr>\n",
       "    <tr>\n",
       "      <th>list</th>\n",
       "      <td>150</td>\n",
       "    </tr>\n",
       "    <tr>\n",
       "      <th>side</th>\n",
       "      <td>832</td>\n",
       "    </tr>\n",
       "    <tr>\n",
       "      <th>effect</th>\n",
       "      <td>1773</td>\n",
       "    </tr>\n",
       "    <tr>\n",
       "      <th>https</th>\n",
       "      <td>4469</td>\n",
       "    </tr>\n",
       "    <tr>\n",
       "      <th>//youtu.be/9swygynujao</th>\n",
       "      <td>2</td>\n",
       "    </tr>\n",
       "    <tr>\n",
       "      <th>charlott</th>\n",
       "      <td>13</td>\n",
       "    </tr>\n",
       "    <tr>\n",
       "      <th>haggerti</th>\n",
       "      <td>3</td>\n",
       "    </tr>\n",
       "    <tr>\n",
       "      <th>realli</th>\n",
       "      <td>613</td>\n",
       "    </tr>\n",
       "    <tr>\n",
       "      <th>believ</th>\n",
       "      <td>911</td>\n",
       "    </tr>\n",
       "    <tr>\n",
       "      <th>everyth</th>\n",
       "      <td>407</td>\n",
       "    </tr>\n",
       "    <tr>\n",
       "      <th>told</th>\n",
       "      <td>328</td>\n",
       "    </tr>\n",
       "    <tr>\n",
       "      <th>end</th>\n",
       "      <td>552</td>\n",
       "    </tr>\n",
       "    <tr>\n",
       "      <th>pandem</th>\n",
       "      <td>881</td>\n",
       "    </tr>\n",
       "    <tr>\n",
       "      <th>herd</th>\n",
       "      <td>128</td>\n",
       "    </tr>\n",
       "    <tr>\n",
       "      <th>immun</th>\n",
       "      <td>1052</td>\n",
       "    </tr>\n",
       "    <tr>\n",
       "      <th>howev</th>\n",
       "      <td>191</td>\n",
       "    </tr>\n",
       "  </tbody>\n",
       "</table>\n",
       "</div>"
      ],
      "text/plain": [
       "                        counts\n",
       "got                        704\n",
       "moderna                    297\n",
       "vaccin                   20610\n",
       "hereâ€™                     17\n",
       "list                       150\n",
       "side                       832\n",
       "effect                    1773\n",
       "https                     4469\n",
       "//youtu.be/9swygynujao       2\n",
       "charlott                    13\n",
       "haggerti                     3\n",
       "realli                     613\n",
       "believ                     911\n",
       "everyth                    407\n",
       "told                       328\n",
       "end                        552\n",
       "pandem                     881\n",
       "herd                       128\n",
       "immun                     1052\n",
       "howev                      191"
      ]
     },
     "execution_count": 32,
     "metadata": {},
     "output_type": "execute_result"
    }
   ],
   "source": [
    "counts = counts.rename(columns = {0: 'counts'})\n",
    "counts.head(20)"
   ]
  },
  {
   "cell_type": "markdown",
   "id": "romantic-librarian",
   "metadata": {},
   "source": [
    "Now for the interesting part. We can now see the words that are being used the most and if we wanted to, the words that are being used the least. For the sake of scrolling and univariate plotting below I am only going to include the top 50 most frequently used words."
   ]
  },
  {
   "cell_type": "code",
   "execution_count": 20,
   "id": "prescription-terror",
   "metadata": {},
   "outputs": [
    {
     "data": {
      "text/html": [
       "<div>\n",
       "<style scoped>\n",
       "    .dataframe tbody tr th:only-of-type {\n",
       "        vertical-align: middle;\n",
       "    }\n",
       "\n",
       "    .dataframe tbody tr th {\n",
       "        vertical-align: top;\n",
       "    }\n",
       "\n",
       "    .dataframe thead th {\n",
       "        text-align: right;\n",
       "    }\n",
       "</style>\n",
       "<table border=\"1\" class=\"dataframe\">\n",
       "  <thead>\n",
       "    <tr style=\"text-align: right;\">\n",
       "      <th></th>\n",
       "      <th>counts</th>\n",
       "    </tr>\n",
       "  </thead>\n",
       "  <tbody>\n",
       "    <tr>\n",
       "      <th>vaccine</th>\n",
       "      <td>17148</td>\n",
       "    </tr>\n",
       "    <tr>\n",
       "      <th>people</th>\n",
       "      <td>4894</td>\n",
       "    </tr>\n",
       "    <tr>\n",
       "      <th>'s</th>\n",
       "      <td>4614</td>\n",
       "    </tr>\n",
       "    <tr>\n",
       "      <th>https</th>\n",
       "      <td>4469</td>\n",
       "    </tr>\n",
       "    <tr>\n",
       "      <th>get</th>\n",
       "      <td>3195</td>\n",
       "    </tr>\n",
       "    <tr>\n",
       "      <th>``</th>\n",
       "      <td>2989</td>\n",
       "    </tr>\n",
       "    <tr>\n",
       "      <th>''</th>\n",
       "      <td>2969</td>\n",
       "    </tr>\n",
       "    <tr>\n",
       "      <th>take</th>\n",
       "      <td>2805</td>\n",
       "    </tr>\n",
       "    <tr>\n",
       "      <th>covid</th>\n",
       "      <td>2772</td>\n",
       "    </tr>\n",
       "    <tr>\n",
       "      <th>virus</th>\n",
       "      <td>2699</td>\n",
       "    </tr>\n",
       "    <tr>\n",
       "      <th>...</th>\n",
       "      <td>2515</td>\n",
       "    </tr>\n",
       "    <tr>\n",
       "      <th>news</th>\n",
       "      <td>2328</td>\n",
       "    </tr>\n",
       "    <tr>\n",
       "      <th>cnbc</th>\n",
       "      <td>2125</td>\n",
       "    </tr>\n",
       "    <tr>\n",
       "      <th>like</th>\n",
       "      <td>2090</td>\n",
       "    </tr>\n",
       "    <tr>\n",
       "      <th>new</th>\n",
       "      <td>2038</td>\n",
       "    </tr>\n",
       "    <tr>\n",
       "      <th>vaccines</th>\n",
       "      <td>2007</td>\n",
       "    </tr>\n",
       "    <tr>\n",
       "      <th>one</th>\n",
       "      <td>1880</td>\n",
       "    </tr>\n",
       "    <tr>\n",
       "      <th>would</th>\n",
       "      <td>1867</td>\n",
       "    </tr>\n",
       "    <tr>\n",
       "      <th>--</th>\n",
       "      <td>1856</td>\n",
       "    </tr>\n",
       "    <tr>\n",
       "      <th>us</th>\n",
       "      <td>1821</td>\n",
       "    </tr>\n",
       "    <tr>\n",
       "      <th>know</th>\n",
       "      <td>1689</td>\n",
       "    </tr>\n",
       "    <tr>\n",
       "      <th>world</th>\n",
       "      <td>1561</td>\n",
       "    </tr>\n",
       "    <tr>\n",
       "      <th>covid-19</th>\n",
       "      <td>1541</td>\n",
       "    </tr>\n",
       "    <tr>\n",
       "      <th>first</th>\n",
       "      <td>1477</td>\n",
       "    </tr>\n",
       "    <tr>\n",
       "      <th>even</th>\n",
       "      <td>1449</td>\n",
       "    </tr>\n",
       "    <tr>\n",
       "      <th>..</th>\n",
       "      <td>1437</td>\n",
       "    </tr>\n",
       "    <tr>\n",
       "      <th>said</th>\n",
       "      <td>1414</td>\n",
       "    </tr>\n",
       "    <tr>\n",
       "      <th>coronavirus</th>\n",
       "      <td>1315</td>\n",
       "    </tr>\n",
       "    <tr>\n",
       "      <th>think</th>\n",
       "      <td>1276</td>\n",
       "    </tr>\n",
       "    <tr>\n",
       "      <th>also</th>\n",
       "      <td>1267</td>\n",
       "    </tr>\n",
       "    <tr>\n",
       "      <th>quot</th>\n",
       "      <td>1231</td>\n",
       "    </tr>\n",
       "    <tr>\n",
       "      <th>need</th>\n",
       "      <td>1203</td>\n",
       "    </tr>\n",
       "    <tr>\n",
       "      <th>make</th>\n",
       "      <td>1195</td>\n",
       "    </tr>\n",
       "    <tr>\n",
       "      <th>want</th>\n",
       "      <td>1192</td>\n",
       "    </tr>\n",
       "    <tr>\n",
       "      <th>pfizer</th>\n",
       "      <td>1180</td>\n",
       "    </tr>\n",
       "    <tr>\n",
       "      <th>government</th>\n",
       "      <td>1170</td>\n",
       "    </tr>\n",
       "    <tr>\n",
       "      <th>see</th>\n",
       "      <td>1126</td>\n",
       "    </tr>\n",
       "    <tr>\n",
       "      <th>time</th>\n",
       "      <td>1126</td>\n",
       "    </tr>\n",
       "    <tr>\n",
       "      <th>â</th>\n",
       "      <td>1123</td>\n",
       "    </tr>\n",
       "    <tr>\n",
       "      <th>many</th>\n",
       "      <td>1096</td>\n",
       "    </tr>\n",
       "    <tr>\n",
       "      <th>lt</th>\n",
       "      <td>1062</td>\n",
       "    </tr>\n",
       "    <tr>\n",
       "      <th>follow</th>\n",
       "      <td>1048</td>\n",
       "    </tr>\n",
       "    <tr>\n",
       "      <th>going</th>\n",
       "      <td>1008</td>\n",
       "    </tr>\n",
       "    <tr>\n",
       "      <th>never</th>\n",
       "      <td>989</td>\n",
       "    </tr>\n",
       "    <tr>\n",
       "      <th>year</th>\n",
       "      <td>966</td>\n",
       "    </tr>\n",
       "    <tr>\n",
       "      <th>god</th>\n",
       "      <td>957</td>\n",
       "    </tr>\n",
       "    <tr>\n",
       "      <th>could</th>\n",
       "      <td>956</td>\n",
       "    </tr>\n",
       "    <tr>\n",
       "      <th>go</th>\n",
       "      <td>950</td>\n",
       "    </tr>\n",
       "    <tr>\n",
       "      <th>years</th>\n",
       "      <td>950</td>\n",
       "    </tr>\n",
       "    <tr>\n",
       "      <th>say</th>\n",
       "      <td>946</td>\n",
       "    </tr>\n",
       "  </tbody>\n",
       "</table>\n",
       "</div>"
      ],
      "text/plain": [
       "             counts\n",
       "vaccine       17148\n",
       "people         4894\n",
       "'s             4614\n",
       "https          4469\n",
       "get            3195\n",
       "``             2989\n",
       "''             2969\n",
       "take           2805\n",
       "covid          2772\n",
       "virus          2699\n",
       "...            2515\n",
       "news           2328\n",
       "cnbc           2125\n",
       "like           2090\n",
       "new            2038\n",
       "vaccines       2007\n",
       "one            1880\n",
       "would          1867\n",
       "--             1856\n",
       "us             1821\n",
       "know           1689\n",
       "world          1561\n",
       "covid-19       1541\n",
       "first          1477\n",
       "even           1449\n",
       "..             1437\n",
       "said           1414\n",
       "coronavirus    1315\n",
       "think          1276\n",
       "also           1267\n",
       "quot           1231\n",
       "need           1203\n",
       "make           1195\n",
       "want           1192\n",
       "pfizer         1180\n",
       "government     1170\n",
       "see            1126\n",
       "time           1126\n",
       "â              1123\n",
       "many           1096\n",
       "lt             1062\n",
       "follow         1048\n",
       "going          1008\n",
       "never           989\n",
       "year            966\n",
       "god             957\n",
       "could           956\n",
       "go              950\n",
       "years           950\n",
       "say             946"
      ]
     },
     "execution_count": 20,
     "metadata": {},
     "output_type": "execute_result"
    }
   ],
   "source": [
    "count_sort = counts.sort_values('counts', ascending = False)[:50]\n",
    "count_sort"
   ]
  },
  {
   "cell_type": "markdown",
   "id": "boolean-defense",
   "metadata": {},
   "source": [
    "Below are the results of the word frequency analysis. We can see that the word \"vaccine\" vastly outnumbers any other word used in these Youtube comments. A couple key words that I would keep in mind here are \"never\", \"first\", and \"need\". Although we can think of ways that these words could be used in comments regarding the COVID-19 vaccine, I'm not sure that we can accurately understand how people are feeling just by these words alone. Next, we'll stem the data in order to retrieve the roots of some of these words and plot another graph."
   ]
  },
  {
   "cell_type": "code",
   "execution_count": 21,
   "id": "conceptual-image",
   "metadata": {},
   "outputs": [
    {
     "data": {
      "image/png": "[encoded data removed]",
      "text/plain": [
       "<Figure size 1080x720 with 1 Axes>"
      ]
     },
     "metadata": {
      "needs_background": "light"
     },
     "output_type": "display_data"
    }
   ],
   "source": [
    "fig, ax0 = plt.subplots(figsize=(15,10))\n",
    "ax0.bar(count_sort.index, count_sort['counts'])\n",
    "plt.xticks(rotation=90, fontsize = 'small')\n",
    "plt.show()"
   ]
  },
  {
   "cell_type": "code",
   "execution_count": 23,
   "id": "quantitative-skirt",
   "metadata": {},
   "outputs": [],
   "source": [
    "stemmer = nltk.stem.SnowballStemmer(\"english\")\n",
    "stems = []\n",
    "for i in you['no_punct']:\n",
    "    stems.append([stemmer.stem(word) for word in i])\n",
    "    \n",
    "you['stemmed'] = stems"
   ]
  },
  {
   "cell_type": "code",
   "execution_count": 24,
   "id": "saving-walter",
   "metadata": {},
   "outputs": [
    {
     "data": {
      "text/plain": [
       "0        {'got': 1, 'moderna': 1, 'vaccin': 1, 'hereâ€™...\n",
       "1        {'charlott': 1, 'haggerti': 1, 'realli': 1, 'b...\n",
       "2        {'hate': 1, 'say': 1, '``': 1, 'want': 1, 'cov...\n",
       "3        {'sweet': 1, 'heart': 1, 'well': 1, 'quanta': ...\n",
       "4        {'angryangi': 1, 'recommend': 1, 'flu': 5, 'sh...\n",
       "                               ...                        \n",
       "12486    {'pfizer': 1, 'fine': 1, 'corpor': 1, 'us': 1,...\n",
       "12487    {'women': 1, 'first': 3, 'person': 2, 'get': 1...\n",
       "12488    {'breast': 1, 'cancer': 1, 'survivor': 1, 'goo...\n",
       "12489    {'panel': 1, 'member': 1, 'first': 1, 'get': 1...\n",
       "12490    {'tom': 1, 'r': 1, 'wo': 1, 'return': 1, 'easi...\n",
       "Name: freqs2, Length: 12491, dtype: object"
      ]
     },
     "execution_count": 24,
     "metadata": {},
     "output_type": "execute_result"
    }
   ],
   "source": [
    "freq2 = [FreqDist(x) for x in you['stemmed']]\n",
    "you['freqs2'] = freq2\n",
    "you['freqs2']"
   ]
  },
  {
   "cell_type": "code",
   "execution_count": 25,
   "id": "nuclear-bloom",
   "metadata": {},
   "outputs": [
    {
     "data": {
      "text/plain": [
       "Counter({'charlott': 1,\n",
       "         'haggerti': 1,\n",
       "         'realli': 1,\n",
       "         'believ': 1,\n",
       "         'everyth': 1,\n",
       "         'told': 1,\n",
       "         'vaccin': 2,\n",
       "         'end': 1,\n",
       "         'pandem': 1,\n",
       "         'herd': 1,\n",
       "         'immun': 1,\n",
       "         'howev': 1,\n",
       "         'claim': 1,\n",
       "         'virus': 1,\n",
       "         'gone': 1,\n",
       "         'august': 1,\n",
       "         'btw': 1})"
      ]
     },
     "execution_count": 25,
     "metadata": {},
     "output_type": "execute_result"
    }
   ],
   "source": [
    "you['f2_counts'] = [Counter(x) for x in you['freqs2']]\n",
    "you['f2_counts'][1]"
   ]
  },
  {
   "cell_type": "code",
   "execution_count": 26,
   "id": "driving-wrist",
   "metadata": {},
   "outputs": [],
   "source": [
    "wordcounts = Counter()\n",
    "for i in you['f2_counts']:\n",
    "    wordcounts += i"
   ]
  },
  {
   "cell_type": "code",
   "execution_count": 35,
   "id": "tropical-auditor",
   "metadata": {},
   "outputs": [
    {
     "data": {
      "text/html": [
       "<div>\n",
       "<style scoped>\n",
       "    .dataframe tbody tr th:only-of-type {\n",
       "        vertical-align: middle;\n",
       "    }\n",
       "\n",
       "    .dataframe tbody tr th {\n",
       "        vertical-align: top;\n",
       "    }\n",
       "\n",
       "    .dataframe thead th {\n",
       "        text-align: right;\n",
       "    }\n",
       "</style>\n",
       "<table border=\"1\" class=\"dataframe\">\n",
       "  <thead>\n",
       "    <tr style=\"text-align: right;\">\n",
       "      <th></th>\n",
       "      <th>0</th>\n",
       "    </tr>\n",
       "  </thead>\n",
       "  <tbody>\n",
       "    <tr>\n",
       "      <th>got</th>\n",
       "      <td>704</td>\n",
       "    </tr>\n",
       "    <tr>\n",
       "      <th>moderna</th>\n",
       "      <td>297</td>\n",
       "    </tr>\n",
       "    <tr>\n",
       "      <th>vaccin</th>\n",
       "      <td>20610</td>\n",
       "    </tr>\n",
       "    <tr>\n",
       "      <th>hereâ€™</th>\n",
       "      <td>17</td>\n",
       "    </tr>\n",
       "    <tr>\n",
       "      <th>list</th>\n",
       "      <td>150</td>\n",
       "    </tr>\n",
       "    <tr>\n",
       "      <th>...</th>\n",
       "      <td>...</td>\n",
       "    </tr>\n",
       "    <tr>\n",
       "      <th>viz</th>\n",
       "      <td>2</td>\n",
       "    </tr>\n",
       "    <tr>\n",
       "      <th>//www.mdpi.com/1660-4601/17/22/8674</th>\n",
       "      <td>1</td>\n",
       "    </tr>\n",
       "    <tr>\n",
       "      <th>adventur</th>\n",
       "      <td>1</td>\n",
       "    </tr>\n",
       "    <tr>\n",
       "      <th>hindi</th>\n",
       "      <td>1</td>\n",
       "    </tr>\n",
       "    <tr>\n",
       "      <th>urdu</th>\n",
       "      <td>1</td>\n",
       "    </tr>\n",
       "  </tbody>\n",
       "</table>\n",
       "<p>24499 rows × 1 columns</p>\n",
       "</div>"
      ],
      "text/plain": [
       "                                         0\n",
       "got                                    704\n",
       "moderna                                297\n",
       "vaccin                               20610\n",
       "hereâ€™                                 17\n",
       "list                                   150\n",
       "...                                    ...\n",
       "viz                                      2\n",
       "//www.mdpi.com/1660-4601/17/22/8674      1\n",
       "adventur                                 1\n",
       "hindi                                    1\n",
       "urdu                                     1\n",
       "\n",
       "[24499 rows x 1 columns]"
      ]
     },
     "execution_count": 35,
     "metadata": {},
     "output_type": "execute_result"
    }
   ],
   "source": [
    "counts2 = pd.DataFrame.from_dict(dict(wordcounts), orient='index')\n",
    "counts2"
   ]
  },
  {
   "cell_type": "code",
   "execution_count": 36,
   "id": "increasing-bidder",
   "metadata": {},
   "outputs": [
    {
     "data": {
      "text/html": [
       "<div>\n",
       "<style scoped>\n",
       "    .dataframe tbody tr th:only-of-type {\n",
       "        vertical-align: middle;\n",
       "    }\n",
       "\n",
       "    .dataframe tbody tr th {\n",
       "        vertical-align: top;\n",
       "    }\n",
       "\n",
       "    .dataframe thead th {\n",
       "        text-align: right;\n",
       "    }\n",
       "</style>\n",
       "<table border=\"1\" class=\"dataframe\">\n",
       "  <thead>\n",
       "    <tr style=\"text-align: right;\">\n",
       "      <th></th>\n",
       "      <th>counts</th>\n",
       "    </tr>\n",
       "  </thead>\n",
       "  <tbody>\n",
       "    <tr>\n",
       "      <th>got</th>\n",
       "      <td>704</td>\n",
       "    </tr>\n",
       "    <tr>\n",
       "      <th>moderna</th>\n",
       "      <td>297</td>\n",
       "    </tr>\n",
       "    <tr>\n",
       "      <th>vaccin</th>\n",
       "      <td>20610</td>\n",
       "    </tr>\n",
       "    <tr>\n",
       "      <th>hereâ€™</th>\n",
       "      <td>17</td>\n",
       "    </tr>\n",
       "    <tr>\n",
       "      <th>list</th>\n",
       "      <td>150</td>\n",
       "    </tr>\n",
       "    <tr>\n",
       "      <th>side</th>\n",
       "      <td>832</td>\n",
       "    </tr>\n",
       "    <tr>\n",
       "      <th>effect</th>\n",
       "      <td>1773</td>\n",
       "    </tr>\n",
       "    <tr>\n",
       "      <th>https</th>\n",
       "      <td>4469</td>\n",
       "    </tr>\n",
       "    <tr>\n",
       "      <th>//youtu.be/9swygynujao</th>\n",
       "      <td>2</td>\n",
       "    </tr>\n",
       "    <tr>\n",
       "      <th>charlott</th>\n",
       "      <td>13</td>\n",
       "    </tr>\n",
       "    <tr>\n",
       "      <th>haggerti</th>\n",
       "      <td>3</td>\n",
       "    </tr>\n",
       "    <tr>\n",
       "      <th>realli</th>\n",
       "      <td>613</td>\n",
       "    </tr>\n",
       "    <tr>\n",
       "      <th>believ</th>\n",
       "      <td>911</td>\n",
       "    </tr>\n",
       "    <tr>\n",
       "      <th>everyth</th>\n",
       "      <td>407</td>\n",
       "    </tr>\n",
       "    <tr>\n",
       "      <th>told</th>\n",
       "      <td>328</td>\n",
       "    </tr>\n",
       "    <tr>\n",
       "      <th>end</th>\n",
       "      <td>552</td>\n",
       "    </tr>\n",
       "    <tr>\n",
       "      <th>pandem</th>\n",
       "      <td>881</td>\n",
       "    </tr>\n",
       "    <tr>\n",
       "      <th>herd</th>\n",
       "      <td>128</td>\n",
       "    </tr>\n",
       "    <tr>\n",
       "      <th>immun</th>\n",
       "      <td>1052</td>\n",
       "    </tr>\n",
       "    <tr>\n",
       "      <th>howev</th>\n",
       "      <td>191</td>\n",
       "    </tr>\n",
       "    <tr>\n",
       "      <th>claim</th>\n",
       "      <td>267</td>\n",
       "    </tr>\n",
       "    <tr>\n",
       "      <th>virus</th>\n",
       "      <td>3061</td>\n",
       "    </tr>\n",
       "    <tr>\n",
       "      <th>gone</th>\n",
       "      <td>131</td>\n",
       "    </tr>\n",
       "    <tr>\n",
       "      <th>august</th>\n",
       "      <td>23</td>\n",
       "    </tr>\n",
       "    <tr>\n",
       "      <th>btw</th>\n",
       "      <td>48</td>\n",
       "    </tr>\n",
       "    <tr>\n",
       "      <th>hate</th>\n",
       "      <td>148</td>\n",
       "    </tr>\n",
       "    <tr>\n",
       "      <th>say</th>\n",
       "      <td>1938</td>\n",
       "    </tr>\n",
       "    <tr>\n",
       "      <th>``</th>\n",
       "      <td>2989</td>\n",
       "    </tr>\n",
       "    <tr>\n",
       "      <th>want</th>\n",
       "      <td>1468</td>\n",
       "    </tr>\n",
       "    <tr>\n",
       "      <th>covid</th>\n",
       "      <td>2781</td>\n",
       "    </tr>\n",
       "    <tr>\n",
       "      <th>well</th>\n",
       "      <td>612</td>\n",
       "    </tr>\n",
       "    <tr>\n",
       "      <th>work</th>\n",
       "      <td>1353</td>\n",
       "    </tr>\n",
       "    <tr>\n",
       "      <th>smallpox</th>\n",
       "      <td>53</td>\n",
       "    </tr>\n",
       "    <tr>\n",
       "      <th>polio</th>\n",
       "      <td>150</td>\n",
       "    </tr>\n",
       "    <tr>\n",
       "      <th>''</th>\n",
       "      <td>2969</td>\n",
       "    </tr>\n",
       "    <tr>\n",
       "      <th>yeah</th>\n",
       "      <td>200</td>\n",
       "    </tr>\n",
       "    <tr>\n",
       "      <th>'s</th>\n",
       "      <td>4614</td>\n",
       "    </tr>\n",
       "    <tr>\n",
       "      <th>differ</th>\n",
       "      <td>498</td>\n",
       "    </tr>\n",
       "    <tr>\n",
       "      <th>even</th>\n",
       "      <td>1463</td>\n",
       "    </tr>\n",
       "    <tr>\n",
       "      <th>0.1</th>\n",
       "      <td>12</td>\n",
       "    </tr>\n",
       "    <tr>\n",
       "      <th>dead</th>\n",
       "      <td>504</td>\n",
       "    </tr>\n",
       "    <tr>\n",
       "      <th>exampl</th>\n",
       "      <td>127</td>\n",
       "    </tr>\n",
       "    <tr>\n",
       "      <th>issu</th>\n",
       "      <td>356</td>\n",
       "    </tr>\n",
       "    <tr>\n",
       "      <th>'m</th>\n",
       "      <td>729</td>\n",
       "    </tr>\n",
       "    <tr>\n",
       "      <th>definit</th>\n",
       "      <td>141</td>\n",
       "    </tr>\n",
       "    <tr>\n",
       "      <th>would</th>\n",
       "      <td>1868</td>\n",
       "    </tr>\n",
       "    <tr>\n",
       "      <th>stupid</th>\n",
       "      <td>240</td>\n",
       "    </tr>\n",
       "    <tr>\n",
       "      <th>great</th>\n",
       "      <td>398</td>\n",
       "    </tr>\n",
       "    <tr>\n",
       "      <th>advanc</th>\n",
       "      <td>106</td>\n",
       "    </tr>\n",
       "    <tr>\n",
       "      <th>mankind</th>\n",
       "      <td>17</td>\n",
       "    </tr>\n",
       "  </tbody>\n",
       "</table>\n",
       "</div>"
      ],
      "text/plain": [
       "                        counts\n",
       "got                        704\n",
       "moderna                    297\n",
       "vaccin                   20610\n",
       "hereâ€™                     17\n",
       "list                       150\n",
       "side                       832\n",
       "effect                    1773\n",
       "https                     4469\n",
       "//youtu.be/9swygynujao       2\n",
       "charlott                    13\n",
       "haggerti                     3\n",
       "realli                     613\n",
       "believ                     911\n",
       "everyth                    407\n",
       "told                       328\n",
       "end                        552\n",
       "pandem                     881\n",
       "herd                       128\n",
       "immun                     1052\n",
       "howev                      191\n",
       "claim                      267\n",
       "virus                     3061\n",
       "gone                       131\n",
       "august                      23\n",
       "btw                         48\n",
       "hate                       148\n",
       "say                       1938\n",
       "``                        2989\n",
       "want                      1468\n",
       "covid                     2781\n",
       "well                       612\n",
       "work                      1353\n",
       "smallpox                    53\n",
       "polio                      150\n",
       "''                        2969\n",
       "yeah                       200\n",
       "'s                        4614\n",
       "differ                     498\n",
       "even                      1463\n",
       "0.1                         12\n",
       "dead                       504\n",
       "exampl                     127\n",
       "issu                       356\n",
       "'m                         729\n",
       "definit                    141\n",
       "would                     1868\n",
       "stupid                     240\n",
       "great                      398\n",
       "advanc                     106\n",
       "mankind                     17"
      ]
     },
     "execution_count": 36,
     "metadata": {},
     "output_type": "execute_result"
    }
   ],
   "source": [
    "counts2 = counts2.rename(columns = {0: 'counts'})\n",
    "counts2.head(50)"
   ]
  },
  {
   "cell_type": "code",
   "execution_count": 37,
   "id": "overall-tuition",
   "metadata": {
    "scrolled": true
   },
   "outputs": [
    {
     "data": {
      "text/html": [
       "<div>\n",
       "<style scoped>\n",
       "    .dataframe tbody tr th:only-of-type {\n",
       "        vertical-align: middle;\n",
       "    }\n",
       "\n",
       "    .dataframe tbody tr th {\n",
       "        vertical-align: top;\n",
       "    }\n",
       "\n",
       "    .dataframe thead th {\n",
       "        text-align: right;\n",
       "    }\n",
       "</style>\n",
       "<table border=\"1\" class=\"dataframe\">\n",
       "  <thead>\n",
       "    <tr style=\"text-align: right;\">\n",
       "      <th></th>\n",
       "      <th>counts</th>\n",
       "    </tr>\n",
       "  </thead>\n",
       "  <tbody>\n",
       "    <tr>\n",
       "      <th>vaccin</th>\n",
       "      <td>20610</td>\n",
       "    </tr>\n",
       "    <tr>\n",
       "      <th>peopl</th>\n",
       "      <td>4940</td>\n",
       "    </tr>\n",
       "    <tr>\n",
       "      <th>'s</th>\n",
       "      <td>4614</td>\n",
       "    </tr>\n",
       "    <tr>\n",
       "      <th>https</th>\n",
       "      <td>4469</td>\n",
       "    </tr>\n",
       "    <tr>\n",
       "      <th>get</th>\n",
       "      <td>4232</td>\n",
       "    </tr>\n",
       "    <tr>\n",
       "      <th>take</th>\n",
       "      <td>3915</td>\n",
       "    </tr>\n",
       "    <tr>\n",
       "      <th>virus</th>\n",
       "      <td>3061</td>\n",
       "    </tr>\n",
       "    <tr>\n",
       "      <th>``</th>\n",
       "      <td>2989</td>\n",
       "    </tr>\n",
       "    <tr>\n",
       "      <th>''</th>\n",
       "      <td>2969</td>\n",
       "    </tr>\n",
       "    <tr>\n",
       "      <th>covid</th>\n",
       "      <td>2781</td>\n",
       "    </tr>\n",
       "    <tr>\n",
       "      <th>...</th>\n",
       "      <td>2515</td>\n",
       "    </tr>\n",
       "    <tr>\n",
       "      <th>like</th>\n",
       "      <td>2371</td>\n",
       "    </tr>\n",
       "    <tr>\n",
       "      <th>news</th>\n",
       "      <td>2328</td>\n",
       "    </tr>\n",
       "    <tr>\n",
       "      <th>cnbc</th>\n",
       "      <td>2125</td>\n",
       "    </tr>\n",
       "    <tr>\n",
       "      <th>one</th>\n",
       "      <td>2082</td>\n",
       "    </tr>\n",
       "    <tr>\n",
       "      <th>new</th>\n",
       "      <td>2048</td>\n",
       "    </tr>\n",
       "    <tr>\n",
       "      <th>go</th>\n",
       "      <td>1959</td>\n",
       "    </tr>\n",
       "    <tr>\n",
       "      <th>know</th>\n",
       "      <td>1949</td>\n",
       "    </tr>\n",
       "    <tr>\n",
       "      <th>year</th>\n",
       "      <td>1939</td>\n",
       "    </tr>\n",
       "    <tr>\n",
       "      <th>say</th>\n",
       "      <td>1938</td>\n",
       "    </tr>\n",
       "    <tr>\n",
       "      <th>would</th>\n",
       "      <td>1868</td>\n",
       "    </tr>\n",
       "    <tr>\n",
       "      <th>--</th>\n",
       "      <td>1856</td>\n",
       "    </tr>\n",
       "    <tr>\n",
       "      <th>make</th>\n",
       "      <td>1840</td>\n",
       "    </tr>\n",
       "    <tr>\n",
       "      <th>us</th>\n",
       "      <td>1821</td>\n",
       "    </tr>\n",
       "    <tr>\n",
       "      <th>effect</th>\n",
       "      <td>1773</td>\n",
       "    </tr>\n",
       "    <tr>\n",
       "      <th>use</th>\n",
       "      <td>1721</td>\n",
       "    </tr>\n",
       "    <tr>\n",
       "      <th>world</th>\n",
       "      <td>1597</td>\n",
       "    </tr>\n",
       "    <tr>\n",
       "      <th>need</th>\n",
       "      <td>1575</td>\n",
       "    </tr>\n",
       "    <tr>\n",
       "      <th>covid-19</th>\n",
       "      <td>1545</td>\n",
       "    </tr>\n",
       "    <tr>\n",
       "      <th>first</th>\n",
       "      <td>1490</td>\n",
       "    </tr>\n",
       "    <tr>\n",
       "      <th>test</th>\n",
       "      <td>1487</td>\n",
       "    </tr>\n",
       "    <tr>\n",
       "      <th>want</th>\n",
       "      <td>1468</td>\n",
       "    </tr>\n",
       "    <tr>\n",
       "      <th>even</th>\n",
       "      <td>1463</td>\n",
       "    </tr>\n",
       "    <tr>\n",
       "      <th>think</th>\n",
       "      <td>1461</td>\n",
       "    </tr>\n",
       "    <tr>\n",
       "      <th>..</th>\n",
       "      <td>1437</td>\n",
       "    </tr>\n",
       "    <tr>\n",
       "      <th>said</th>\n",
       "      <td>1415</td>\n",
       "    </tr>\n",
       "    <tr>\n",
       "      <th>time</th>\n",
       "      <td>1396</td>\n",
       "    </tr>\n",
       "    <tr>\n",
       "      <th>live</th>\n",
       "      <td>1359</td>\n",
       "    </tr>\n",
       "    <tr>\n",
       "      <th>govern</th>\n",
       "      <td>1353</td>\n",
       "    </tr>\n",
       "    <tr>\n",
       "      <th>work</th>\n",
       "      <td>1353</td>\n",
       "    </tr>\n",
       "    <tr>\n",
       "      <th>coronavirus</th>\n",
       "      <td>1338</td>\n",
       "    </tr>\n",
       "    <tr>\n",
       "      <th>follow</th>\n",
       "      <td>1335</td>\n",
       "    </tr>\n",
       "    <tr>\n",
       "      <th>quot</th>\n",
       "      <td>1314</td>\n",
       "    </tr>\n",
       "    <tr>\n",
       "      <th>day</th>\n",
       "      <td>1296</td>\n",
       "    </tr>\n",
       "    <tr>\n",
       "      <th>also</th>\n",
       "      <td>1267</td>\n",
       "    </tr>\n",
       "    <tr>\n",
       "      <th>see</th>\n",
       "      <td>1206</td>\n",
       "    </tr>\n",
       "    <tr>\n",
       "      <th>die</th>\n",
       "      <td>1201</td>\n",
       "    </tr>\n",
       "    <tr>\n",
       "      <th>pfizer</th>\n",
       "      <td>1184</td>\n",
       "    </tr>\n",
       "    <tr>\n",
       "      <th>death</th>\n",
       "      <td>1164</td>\n",
       "    </tr>\n",
       "    <tr>\n",
       "      <th>human</th>\n",
       "      <td>1152</td>\n",
       "    </tr>\n",
       "  </tbody>\n",
       "</table>\n",
       "</div>"
      ],
      "text/plain": [
       "             counts\n",
       "vaccin        20610\n",
       "peopl          4940\n",
       "'s             4614\n",
       "https          4469\n",
       "get            4232\n",
       "take           3915\n",
       "virus          3061\n",
       "``             2989\n",
       "''             2969\n",
       "covid          2781\n",
       "...            2515\n",
       "like           2371\n",
       "news           2328\n",
       "cnbc           2125\n",
       "one            2082\n",
       "new            2048\n",
       "go             1959\n",
       "know           1949\n",
       "year           1939\n",
       "say            1938\n",
       "would          1868\n",
       "--             1856\n",
       "make           1840\n",
       "us             1821\n",
       "effect         1773\n",
       "use            1721\n",
       "world          1597\n",
       "need           1575\n",
       "covid-19       1545\n",
       "first          1490\n",
       "test           1487\n",
       "want           1468\n",
       "even           1463\n",
       "think          1461\n",
       "..             1437\n",
       "said           1415\n",
       "time           1396\n",
       "live           1359\n",
       "govern         1353\n",
       "work           1353\n",
       "coronavirus    1338\n",
       "follow         1335\n",
       "quot           1314\n",
       "day            1296\n",
       "also           1267\n",
       "see            1206\n",
       "die            1201\n",
       "pfizer         1184\n",
       "death          1164\n",
       "human          1152"
      ]
     },
     "execution_count": 37,
     "metadata": {},
     "output_type": "execute_result"
    }
   ],
   "source": [
    "count_sort2 = counts2.sort_values('counts', ascending = False)[:50]\n",
    "count_sort2"
   ]
  },
  {
   "cell_type": "markdown",
   "id": "palestinian-excitement",
   "metadata": {},
   "source": [
    "So going through essentially the same process as our unstemmed data, we can see similar results. \"Vaccin\" still outnumbers the rest of the words by far, but now since we stemmed the data some of the meaningless characters left over from previous processes are now eliminated, making room for more words that may be of some significance. Some words that I would keep in mind in this case are \"death\", \"die\", \"effect\", and \"govern\". Next we begin our VADER sentiment analysis, which should give us a much better idea as to what people think about vaccines."
   ]
  },
  {
   "cell_type": "code",
   "execution_count": 38,
   "id": "swiss-civilization",
   "metadata": {
    "scrolled": true
   },
   "outputs": [
    {
     "data": {
      "image/png": "[encoded data removed]",
      "text/plain": [
       "<Figure size 720x720 with 1 Axes>"
      ]
     },
     "metadata": {
      "needs_background": "light"
     },
     "output_type": "display_data"
    }
   ],
   "source": [
    "fig, ax1 = plt.subplots(figsize=(10,10))\n",
    "ax1.bar(count_sort2.index, count_sort2['counts'])\n",
    "plt.xticks(rotation=90, fontsize = 'medium')\n",
    "plt.show()"
   ]
  },
  {
   "cell_type": "markdown",
   "id": "intense-conjunction",
   "metadata": {},
   "source": [
    "### Vader Sentiment Analysis\n",
    "\n",
    "Using the sentiment analysis tool VADER, we will take a look at the overall sentiment (positive, negative, and neutral) concerning COVID-19 vaccines. After, we will plot the sentiment for each of the comments using univariate distribution again. Finally, we will look at the average sentiment for the whole data set, which should give us the answers we are looking for."
   ]
  },
  {
   "cell_type": "code",
   "execution_count": 39,
   "id": "strategic-incident",
   "metadata": {},
   "outputs": [],
   "source": [
    "analyser = SentimentIntensityAnalyzer()\n",
    "warnings.filterwarnings('ignore')"
   ]
  },
  {
   "cell_type": "markdown",
   "id": "demonstrated-rough",
   "metadata": {},
   "source": [
    "The output below consists of the sentiment for the first 20 comments found in our data set. Already we can see that a lot of the sentiment towards the COVID-19 vaccine is neutral. "
   ]
  },
  {
   "cell_type": "code",
   "execution_count": 40,
   "id": "threaded-mistake",
   "metadata": {
    "scrolled": false
   },
   "outputs": [
    {
     "data": {
      "text/plain": [
       "0     {'neg': 0.0, 'neu': 1.0, 'pos': 0.0, 'compound...\n",
       "1     {'neg': 0.0, 'neu': 1.0, 'pos': 0.0, 'compound...\n",
       "2     {'neg': 0.076, 'neu': 0.728, 'pos': 0.196, 'co...\n",
       "3     {'neg': 0.06, 'neu': 0.817, 'pos': 0.123, 'com...\n",
       "4     {'neg': 0.105, 'neu': 0.792, 'pos': 0.103, 'co...\n",
       "5     {'neg': 0.0, 'neu': 0.949, 'pos': 0.051, 'comp...\n",
       "6     {'neg': 0.098, 'neu': 0.902, 'pos': 0.0, 'comp...\n",
       "7     {'neg': 0.0, 'neu': 0.851, 'pos': 0.149, 'comp...\n",
       "8     {'neg': 0.036, 'neu': 0.811, 'pos': 0.154, 'co...\n",
       "9     {'neg': 0.0, 'neu': 1.0, 'pos': 0.0, 'compound...\n",
       "10    {'neg': 0.047, 'neu': 0.886, 'pos': 0.067, 'co...\n",
       "11    {'neg': 0.246, 'neu': 0.719, 'pos': 0.035, 'co...\n",
       "12    {'neg': 0.051, 'neu': 0.882, 'pos': 0.067, 'co...\n",
       "13    {'neg': 0.135, 'neu': 0.778, 'pos': 0.087, 'co...\n",
       "14    {'neg': 0.0, 'neu': 1.0, 'pos': 0.0, 'compound...\n",
       "15    {'neg': 0.155, 'neu': 0.845, 'pos': 0.0, 'comp...\n",
       "16    {'neg': 0.134, 'neu': 0.841, 'pos': 0.025, 'co...\n",
       "17    {'neg': 0.064, 'neu': 0.638, 'pos': 0.298, 'co...\n",
       "18    {'neg': 0.118, 'neu': 0.82, 'pos': 0.062, 'com...\n",
       "19    {'neg': 0.055, 'neu': 0.936, 'pos': 0.009, 'co...\n",
       "Name: vader_scores, dtype: object"
      ]
     },
     "execution_count": 40,
     "metadata": {},
     "output_type": "execute_result"
    }
   ],
   "source": [
    "you['vader_scores'] = [analyser.polarity_scores(x) for x in you['Full Text']]\n",
    "you['vader_scores'].head(20)"
   ]
  },
  {
   "cell_type": "code",
   "execution_count": 57,
   "id": "equipped-galaxy",
   "metadata": {
    "scrolled": false
   },
   "outputs": [
    {
     "data": {
      "text/plain": [
       "0     0.000\n",
       "1     0.000\n",
       "2     0.196\n",
       "3     0.123\n",
       "4     0.103\n",
       "5     0.051\n",
       "6     0.000\n",
       "7     0.149\n",
       "8     0.154\n",
       "9     0.000\n",
       "10    0.067\n",
       "11    0.035\n",
       "12    0.067\n",
       "13    0.087\n",
       "14    0.000\n",
       "15    0.000\n",
       "16    0.025\n",
       "17    0.298\n",
       "18    0.062\n",
       "19    0.009\n",
       "Name: pos, dtype: float64"
      ]
     },
     "execution_count": 57,
     "metadata": {},
     "output_type": "execute_result"
    }
   ],
   "source": [
    "you['pos'] = [x['pos'] for x in you['vader_scores']]\n",
    "you['pos'].head(20)"
   ]
  },
  {
   "cell_type": "code",
   "execution_count": 58,
   "id": "contrary-timing",
   "metadata": {},
   "outputs": [
    {
     "data": {
      "text/plain": [
       "0     1.000\n",
       "1     1.000\n",
       "2     0.728\n",
       "3     0.817\n",
       "4     0.792\n",
       "5     0.949\n",
       "6     0.902\n",
       "7     0.851\n",
       "8     0.811\n",
       "9     1.000\n",
       "10    0.886\n",
       "11    0.719\n",
       "12    0.882\n",
       "13    0.778\n",
       "14    1.000\n",
       "15    0.845\n",
       "16    0.841\n",
       "17    0.638\n",
       "18    0.820\n",
       "19    0.936\n",
       "Name: neu, dtype: float64"
      ]
     },
     "execution_count": 58,
     "metadata": {},
     "output_type": "execute_result"
    }
   ],
   "source": [
    "you['neu'] = [x['neu'] for x in you['vader_scores']]\n",
    "you['neu'].head(20)"
   ]
  },
  {
   "cell_type": "code",
   "execution_count": 59,
   "id": "ahead-macro",
   "metadata": {},
   "outputs": [
    {
     "data": {
      "text/plain": [
       "0     0.000\n",
       "1     0.000\n",
       "2     0.076\n",
       "3     0.060\n",
       "4     0.105\n",
       "5     0.000\n",
       "6     0.098\n",
       "7     0.000\n",
       "8     0.036\n",
       "9     0.000\n",
       "10    0.047\n",
       "11    0.246\n",
       "12    0.051\n",
       "13    0.135\n",
       "14    0.000\n",
       "15    0.155\n",
       "16    0.134\n",
       "17    0.064\n",
       "18    0.118\n",
       "19    0.055\n",
       "Name: neg, dtype: float64"
      ]
     },
     "execution_count": 59,
     "metadata": {},
     "output_type": "execute_result"
    }
   ],
   "source": [
    "you['neg'] = [x['neg'] for x in you['vader_scores']]\n",
    "you['neg'].head(20)"
   ]
  },
  {
   "cell_type": "markdown",
   "id": "hairy-gambling",
   "metadata": {},
   "source": [
    "Below is our positive sentiment univariate plot."
   ]
  },
  {
   "cell_type": "code",
   "execution_count": 60,
   "id": "divided-beads",
   "metadata": {
    "scrolled": false
   },
   "outputs": [
    {
     "data": {
      "image/png": "[encoded data removed]",
      "text/plain": [
       "<Figure size 720x720 with 1 Axes>"
      ]
     },
     "metadata": {
      "needs_background": "light"
     },
     "output_type": "display_data"
    }
   ],
   "source": [
    "fig, ax0 = plt.subplots(figsize = (10,10))\n",
    "ax0.plot(you['pos'])\n",
    "plt.xticks(rotation=90, fontsize = 'small')\n",
    "plt.show()"
   ]
  },
  {
   "cell_type": "markdown",
   "id": "mathematical-riverside",
   "metadata": {},
   "source": [
    "Here is our neutral sentiment univariate plot."
   ]
  },
  {
   "cell_type": "code",
   "execution_count": 61,
   "id": "great-leone",
   "metadata": {},
   "outputs": [
    {
     "data": {
      "image/png": "[encoded data removed]",
      "text/plain": [
       "<Figure size 720x720 with 1 Axes>"
      ]
     },
     "metadata": {
      "needs_background": "light"
     },
     "output_type": "display_data"
    }
   ],
   "source": [
    "fig, ax0 = plt.subplots(figsize = (10,10))\n",
    "ax0.plot(you['neu'])\n",
    "plt.xticks(rotation=90, fontsize = 'small')\n",
    "plt.show()"
   ]
  },
  {
   "cell_type": "markdown",
   "id": "inclusive-combat",
   "metadata": {},
   "source": [
    "Finally, here is our negative sentiment univariate plot."
   ]
  },
  {
   "cell_type": "code",
   "execution_count": 62,
   "id": "looking-colombia",
   "metadata": {},
   "outputs": [
    {
     "data": {
      "image/png": "[encoded data removed]",
      "text/plain": [
       "<Figure size 720x720 with 1 Axes>"
      ]
     },
     "metadata": {
      "needs_background": "light"
     },
     "output_type": "display_data"
    }
   ],
   "source": [
    "fig, ax0 = plt.subplots(figsize = (10,10))\n",
    "ax0.plot(you['neg'])\n",
    "plt.xticks(rotation=90, fontsize = 'small')\n",
    "plt.show()"
   ]
  },
  {
   "cell_type": "markdown",
   "id": "nonprofit-elements",
   "metadata": {},
   "source": [
    "If we take a look at the graphs above, we can see that the neutral sentiment plot is almost the exact opposite of the positive and negative sentiment plots. This makes sense, as we noted before that at least towards the beginning of the data we were seeing a lot of neutral sentiment. Now let's look at the average sentiment across the whole of the data."
   ]
  },
  {
   "cell_type": "code",
   "execution_count": 63,
   "id": "suffering-prague",
   "metadata": {},
   "outputs": [],
   "source": [
    "from scipy import stats"
   ]
  },
  {
   "cell_type": "code",
   "execution_count": 64,
   "id": "rising-subscriber",
   "metadata": {
    "scrolled": true
   },
   "outputs": [
    {
     "data": {
      "text/plain": [
       "0.08773813145464736"
      ]
     },
     "execution_count": 64,
     "metadata": {},
     "output_type": "execute_result"
    }
   ],
   "source": [
    "stats.describe(you['pos']).mean"
   ]
  },
  {
   "cell_type": "code",
   "execution_count": 65,
   "id": "diagnostic-taste",
   "metadata": {},
   "outputs": [
    {
     "data": {
      "text/plain": [
       "0.8209913537747179"
      ]
     },
     "execution_count": 65,
     "metadata": {},
     "output_type": "execute_result"
    }
   ],
   "source": [
    "stats.describe(you['neu']).mean"
   ]
  },
  {
   "cell_type": "code",
   "execution_count": 66,
   "id": "directed-novelty",
   "metadata": {},
   "outputs": [
    {
     "data": {
      "text/plain": [
       "0.09127187575054038"
      ]
     },
     "execution_count": 66,
     "metadata": {},
     "output_type": "execute_result"
    }
   ],
   "source": [
    "stats.describe(you['neg']).mean"
   ]
  },
  {
   "cell_type": "markdown",
   "id": "through-liberia",
   "metadata": {},
   "source": [
    "So, according to the code above, we are seeing an average of 8% positive, 82% neutral, and 9% negative sentiment across all of the comments in our data. Of course, we should consider that these percentages may not be completely accurate as the VADER tool does not work perfectly. Some of the language that we use like slang along with the use of sarcasm and other certain emotions cannot be entirely understood by VADER, as it's not a human being. However, I believe that this sentiment test does provide us with enough information to understand the conversations being had on vaccines."
   ]
  },
  {
   "cell_type": "markdown",
   "id": "proof-vehicle",
   "metadata": {},
   "source": [
    "## In Conclusion...\n",
    "According to our VADER sentiment test, the comments found in our data set are overwhelmingly neutral. This is a satisfying find for me personally as I think that these results show that people are indeed have intelligent and worthwhile conversations on the implications of the COVID-19 vaccination. I do wish that the positive sentiment average was a bit higher because vaccines are good! Regarding our word frequency analysis, it seems to me that those results support what we found through VADER. The most frequently used words in my opinion were neither really negative or positive (with some exceptions) so it'd only make sense that most of the comments were neutral. As I mentioned towards the beginning, the inclusion of likes or any type of engagement data would add some insight into these results, but I feel quite satisfied about what we found with what we had."
   ]
  },
  {
   "cell_type": "code",
   "execution_count": null,
   "id": "interior-coupon",
   "metadata": {},
   "outputs": [],
   "source": []
  }
 ],
 "metadata": {
  "kernelspec": {
   "display_name": "Python 3",
   "language": "python",
   "name": "python3"
  },
  "language_info": {
   "codemirror_mode": {
    "name": "ipython",
    "version": 3
   },
   "file_extension": ".py",
   "mimetype": "text/x-python",
   "name": "python",
   "nbconvert_exporter": "python",
   "pygments_lexer": "ipython3",
   "version": "3.9.1"
  }
 },
 "nbformat": 4,
 "nbformat_minor": 5
}
