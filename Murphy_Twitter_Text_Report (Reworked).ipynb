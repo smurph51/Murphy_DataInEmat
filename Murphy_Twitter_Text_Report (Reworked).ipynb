{
 "cells": [
  {
   "cell_type": "markdown",
   "id": "related-orchestra",
   "metadata": {},
   "source": [
    "## My Twitter Text Report (Reworked)\n",
    "By Spencer Murphy\n",
    "\n",
    "#### Date Created: 3/31/21\n",
    "#### Last Updated: 3/31/21"
   ]
  },
  {
   "cell_type": "code",
   "execution_count": 1,
   "id": "italic-recycling",
   "metadata": {},
   "outputs": [],
   "source": [
    "import pandas as pd\n",
    "from vaderSentiment.vaderSentiment import SentimentIntensityAnalyzer\n",
    "import warnings\n",
    "from matplotlib import pyplot as plt"
   ]
  },
  {
   "cell_type": "code",
   "execution_count": 2,
   "id": "generous-drinking",
   "metadata": {},
   "outputs": [
    {
     "data": {
      "text/plain": [
       "Index(['Date', 'Title', 'Url', 'Domain', 'Page Type', 'Language', 'Author',\n",
       "       'Full Name', 'Full Text', 'Original Url', 'Thread Entry Type',\n",
       "       'Page Type Name', 'Pub Type'],\n",
       "      dtype='object')"
      ]
     },
     "execution_count": 2,
     "metadata": {},
     "output_type": "execute_result"
    }
   ],
   "source": [
    "you = pd.read_csv('YouTubeVaccination_Dec14-Dec26_2020_toshare.csv')\n",
    "you.keys()\n",
    "\n"
   ]
  },
  {
   "cell_type": "code",
   "execution_count": 3,
   "id": "mexican-astronomy",
   "metadata": {},
   "outputs": [
    {
     "data": {
      "text/html": [
       "<div>\n",
       "<style scoped>\n",
       "    .dataframe tbody tr th:only-of-type {\n",
       "        vertical-align: middle;\n",
       "    }\n",
       "\n",
       "    .dataframe tbody tr th {\n",
       "        vertical-align: top;\n",
       "    }\n",
       "\n",
       "    .dataframe thead th {\n",
       "        text-align: right;\n",
       "    }\n",
       "</style>\n",
       "<table border=\"1\" class=\"dataframe\">\n",
       "  <thead>\n",
       "    <tr style=\"text-align: right;\">\n",
       "      <th></th>\n",
       "      <th>Date</th>\n",
       "      <th>Title</th>\n",
       "      <th>Url</th>\n",
       "      <th>Domain</th>\n",
       "      <th>Page Type</th>\n",
       "      <th>Language</th>\n",
       "      <th>Author</th>\n",
       "      <th>Full Name</th>\n",
       "      <th>Full Text</th>\n",
       "      <th>Original Url</th>\n",
       "      <th>Thread Entry Type</th>\n",
       "      <th>Page Type Name</th>\n",
       "      <th>Pub Type</th>\n",
       "    </tr>\n",
       "  </thead>\n",
       "  <tbody>\n",
       "    <tr>\n",
       "      <th>0</th>\n",
       "      <td>56:24.0</td>\n",
       "      <td>Comment on video https://www.youtube.com/watch...</td>\n",
       "      <td>https://www.youtube.com/watch?v=sT80A5uPREolc=...</td>\n",
       "      <td>youtube.com</td>\n",
       "      <td>youtube</td>\n",
       "      <td>en</td>\n",
       "      <td>RJ MacReady</td>\n",
       "      <td>RJ MacReady</td>\n",
       "      <td>I got the Moderna vaccine, here’s my list of s...</td>\n",
       "      <td>https://www.youtube.com/watch?v=sT80A5uPREolc=...</td>\n",
       "      <td>reply</td>\n",
       "      <td>YouTube</td>\n",
       "      <td>VCOMMENT</td>\n",
       "    </tr>\n",
       "    <tr>\n",
       "      <th>1</th>\n",
       "      <td>36:27.0</td>\n",
       "      <td>Comment on video https://www.youtube.com/watch...</td>\n",
       "      <td>https://www.youtube.com/watch?v=dxVCqwAD8gQlc=...</td>\n",
       "      <td>youtube.com</td>\n",
       "      <td>youtube</td>\n",
       "      <td>en</td>\n",
       "      <td>dontaskme</td>\n",
       "      <td>dontaskme</td>\n",
       "      <td>@Charlotte Haggerty Do you really believe ever...</td>\n",
       "      <td>https://www.youtube.com/watch?v=dxVCqwAD8gQlc=...</td>\n",
       "      <td>reply</td>\n",
       "      <td>YouTube</td>\n",
       "      <td>VCOMMENT</td>\n",
       "    </tr>\n",
       "    <tr>\n",
       "      <th>2</th>\n",
       "      <td>34:33.0</td>\n",
       "      <td>Comment on video https://www.youtube.com/watch...</td>\n",
       "      <td>https://www.youtube.com/watch?v=2Wz7KvLFgYQlc=...</td>\n",
       "      <td>youtube.com</td>\n",
       "      <td>youtube</td>\n",
       "      <td>en</td>\n",
       "      <td>Salavin</td>\n",
       "      <td>Salavin</td>\n",
       "      <td>I hate it when they say \"You don't want a covi...</td>\n",
       "      <td>https://www.youtube.com/watch?v=2Wz7KvLFgYQlc=...</td>\n",
       "      <td>reply</td>\n",
       "      <td>YouTube</td>\n",
       "      <td>VCOMMENT</td>\n",
       "    </tr>\n",
       "    <tr>\n",
       "      <th>3</th>\n",
       "      <td>30:26.0</td>\n",
       "      <td>Comment on video https://www.youtube.com/watch...</td>\n",
       "      <td>https://www.youtube.com/watch?v=dxVCqwAD8gQlc=...</td>\n",
       "      <td>youtube.com</td>\n",
       "      <td>youtube</td>\n",
       "      <td>en</td>\n",
       "      <td>dontaskme</td>\n",
       "      <td>dontaskme</td>\n",
       "      <td>@Sweet Heart Well, Quantas, an Australian airl...</td>\n",
       "      <td>https://www.youtube.com/watch?v=dxVCqwAD8gQlc=...</td>\n",
       "      <td>reply</td>\n",
       "      <td>YouTube</td>\n",
       "      <td>VCOMMENT</td>\n",
       "    </tr>\n",
       "    <tr>\n",
       "      <th>4</th>\n",
       "      <td>27:13.0</td>\n",
       "      <td>Comment on video https://www.youtube.com/watch...</td>\n",
       "      <td>https://www.youtube.com/watch?v=7VG_s2PCH_clc=...</td>\n",
       "      <td>youtube.com</td>\n",
       "      <td>youtube</td>\n",
       "      <td>en</td>\n",
       "      <td>Kristi Allman</td>\n",
       "      <td>Kristi Allman</td>\n",
       "      <td>@AngryAngy Here they recommend a flu shot duri...</td>\n",
       "      <td>https://www.youtube.com/watch?v=7VG_s2PCH_clc=...</td>\n",
       "      <td>reply</td>\n",
       "      <td>YouTube</td>\n",
       "      <td>VCOMMENT</td>\n",
       "    </tr>\n",
       "  </tbody>\n",
       "</table>\n",
       "</div>"
      ],
      "text/plain": [
       "      Date                                              Title  \\\n",
       "0  56:24.0  Comment on video https://www.youtube.com/watch...   \n",
       "1  36:27.0  Comment on video https://www.youtube.com/watch...   \n",
       "2  34:33.0  Comment on video https://www.youtube.com/watch...   \n",
       "3  30:26.0  Comment on video https://www.youtube.com/watch...   \n",
       "4  27:13.0  Comment on video https://www.youtube.com/watch...   \n",
       "\n",
       "                                                 Url       Domain Page Type  \\\n",
       "0  https://www.youtube.com/watch?v=sT80A5uPREolc=...  youtube.com   youtube   \n",
       "1  https://www.youtube.com/watch?v=dxVCqwAD8gQlc=...  youtube.com   youtube   \n",
       "2  https://www.youtube.com/watch?v=2Wz7KvLFgYQlc=...  youtube.com   youtube   \n",
       "3  https://www.youtube.com/watch?v=dxVCqwAD8gQlc=...  youtube.com   youtube   \n",
       "4  https://www.youtube.com/watch?v=7VG_s2PCH_clc=...  youtube.com   youtube   \n",
       "\n",
       "  Language         Author      Full Name  \\\n",
       "0       en    RJ MacReady    RJ MacReady   \n",
       "1       en      dontaskme      dontaskme   \n",
       "2       en        Salavin        Salavin   \n",
       "3       en      dontaskme      dontaskme   \n",
       "4       en  Kristi Allman  Kristi Allman   \n",
       "\n",
       "                                           Full Text  \\\n",
       "0  I got the Moderna vaccine, here’s my list of s...   \n",
       "1  @Charlotte Haggerty Do you really believe ever...   \n",
       "2  I hate it when they say \"You don't want a covi...   \n",
       "3  @Sweet Heart Well, Quantas, an Australian airl...   \n",
       "4  @AngryAngy Here they recommend a flu shot duri...   \n",
       "\n",
       "                                        Original Url Thread Entry Type  \\\n",
       "0  https://www.youtube.com/watch?v=sT80A5uPREolc=...             reply   \n",
       "1  https://www.youtube.com/watch?v=dxVCqwAD8gQlc=...             reply   \n",
       "2  https://www.youtube.com/watch?v=2Wz7KvLFgYQlc=...             reply   \n",
       "3  https://www.youtube.com/watch?v=dxVCqwAD8gQlc=...             reply   \n",
       "4  https://www.youtube.com/watch?v=7VG_s2PCH_clc=...             reply   \n",
       "\n",
       "  Page Type Name  Pub Type  \n",
       "0        YouTube  VCOMMENT  \n",
       "1        YouTube  VCOMMENT  \n",
       "2        YouTube  VCOMMENT  \n",
       "3        YouTube  VCOMMENT  \n",
       "4        YouTube  VCOMMENT  "
      ]
     },
     "execution_count": 3,
     "metadata": {},
     "output_type": "execute_result"
    }
   ],
   "source": [
    "you.head()"
   ]
  },
  {
   "cell_type": "code",
   "execution_count": 4,
   "id": "impressed-violence",
   "metadata": {},
   "outputs": [
    {
     "data": {
      "text/plain": [
       "0    I got the Moderna vaccine, here’s my list of s...\n",
       "1    @Charlotte Haggerty Do you really believe ever...\n",
       "2    I hate it when they say \"You don't want a covi...\n",
       "3    @Sweet Heart Well, Quantas, an Australian airl...\n",
       "4    @AngryAngy Here they recommend a flu shot duri...\n",
       "Name: Full Text, dtype: object"
      ]
     },
     "execution_count": 4,
     "metadata": {},
     "output_type": "execute_result"
    }
   ],
   "source": [
    "you['Full Text'].head()"
   ]
  },
  {
   "cell_type": "markdown",
   "id": "funky-dominant",
   "metadata": {},
   "source": [
    "### Word Frequency Analysis"
   ]
  },
  {
   "cell_type": "code",
   "execution_count": 5,
   "id": "catholic-album",
   "metadata": {},
   "outputs": [
    {
     "data": {
      "text/plain": [
       "0    i got the moderna vaccine, here’s my list of s...\n",
       "1    @charlotte haggerty do you really believe ever...\n",
       "2    i hate it when they say \"you don't want a covi...\n",
       "3    @sweet heart well, quantas, an australian airl...\n",
       "4    @angryangy here they recommend a flu shot duri...\n",
       "5    we don't need a corona vaccine, we need a come...\n",
       "6    i had no idea of who this guy was prior to thi...\n",
       "7    @angryangy zero medical test is done before se...\n",
       "8    @justin kirschenman i don't know about your lo...\n",
       "9    remember when the french scientist said test a...\n",
       "Name: lowercase, dtype: object"
      ]
     },
     "execution_count": 5,
     "metadata": {},
     "output_type": "execute_result"
    }
   ],
   "source": [
    "you['lowercase'] = [x.lower() for x in you['Full Text']]\n",
    "you['lowercase'].head(10)"
   ]
  },
  {
   "cell_type": "code",
   "execution_count": 6,
   "id": "adaptive-sweet",
   "metadata": {},
   "outputs": [],
   "source": [
    "warnings.filterwarnings('ignore')"
   ]
  },
  {
   "cell_type": "code",
   "execution_count": 7,
   "id": "parliamentary-mumbai",
   "metadata": {},
   "outputs": [
    {
     "data": {
      "text/plain": [
       "181"
      ]
     },
     "execution_count": 7,
     "metadata": {},
     "output_type": "execute_result"
    }
   ],
   "source": [
    "import nltk\n",
    "from nltk import tokenize as tk\n",
    "from nltk import FreqDist\n",
    "from nltk.corpus import stopwords\n",
    "import string\n",
    "from collections import Counter\n",
    "\n",
    "  \n",
    "mystopwords = stopwords.words('english')\n",
    "mystopwords.append(\"n't\")\n",
    "mystopwords.append(\"'s'\")\n",
    "len(mystopwords)"
   ]
  },
  {
   "cell_type": "code",
   "execution_count": 8,
   "id": "still-smell",
   "metadata": {},
   "outputs": [
    {
     "data": {
      "text/plain": [
       "0    [i, got, the, moderna, vaccine, ,, here, ’, s,...\n",
       "1    [@, charlotte, haggerty, do, you, really, beli...\n",
       "2    [i, hate, it, when, they, say, ``, you, do, n'...\n",
       "3    [@, sweet, heart, well, ,, quantas, ,, an, aus...\n",
       "4    [@, angryangy, here, they, recommend, a, flu, ...\n",
       "5    [we, do, n't, need, a, corona, vaccine, ,, we,...\n",
       "6    [i, had, no, idea, of, who, this, guy, was, pr...\n",
       "7    [@, angryangy, zero, medical, test, is, done, ...\n",
       "8    [@, justin, kirschenman, i, do, n't, know, abo...\n",
       "9    [remember, when, the, french, scientist, said,...\n",
       "Name: tokens, dtype: object"
      ]
     },
     "execution_count": 8,
     "metadata": {},
     "output_type": "execute_result"
    }
   ],
   "source": [
    "you['tokens'] = [tk.word_tokenize(x) for x in you['lowercase']]\n",
    "you['tokens'].head(10)"
   ]
  },
  {
   "cell_type": "code",
   "execution_count": 9,
   "id": "cosmetic-three",
   "metadata": {},
   "outputs": [],
   "source": [
    "filtered = []\n",
    "for i in you['tokens']:\n",
    "    filtered.append([word for word in i if word not in mystopwords])\n",
    "\n",
    "you['filtered'] = filtered"
   ]
  },
  {
   "cell_type": "code",
   "execution_count": 10,
   "id": "antique-thesis",
   "metadata": {},
   "outputs": [
    {
     "data": {
      "text/plain": [
       "['@',\n",
       " 'charlotte',\n",
       " 'haggerty',\n",
       " 'really',\n",
       " 'believe',\n",
       " 'everything',\n",
       " 'told',\n",
       " '?',\n",
       " ',',\n",
       " 'vaccines',\n",
       " 'end',\n",
       " 'pandemic',\n",
       " '.',\n",
       " 'herd',\n",
       " 'immunization',\n",
       " '.',\n",
       " 'however',\n",
       " ',',\n",
       " 'claim',\n",
       " 'vaccine',\n",
       " '.',\n",
       " 'virus',\n",
       " 'gone',\n",
       " 'august',\n",
       " ',',\n",
       " 'btw',\n",
       " '.']"
      ]
     },
     "execution_count": 10,
     "metadata": {},
     "output_type": "execute_result"
    }
   ],
   "source": [
    "you['filtered'][1]"
   ]
  },
  {
   "cell_type": "code",
   "execution_count": 11,
   "id": "smoking-civilization",
   "metadata": {},
   "outputs": [
    {
     "data": {
      "text/plain": [
       "['charlotte',\n",
       " 'haggerty',\n",
       " 'really',\n",
       " 'believe',\n",
       " 'everything',\n",
       " 'told',\n",
       " 'vaccines',\n",
       " 'end',\n",
       " 'pandemic',\n",
       " 'herd',\n",
       " 'immunization',\n",
       " 'however',\n",
       " 'claim',\n",
       " 'vaccine',\n",
       " 'virus',\n",
       " 'gone',\n",
       " 'august',\n",
       " 'btw']"
      ]
     },
     "execution_count": 11,
     "metadata": {},
     "output_type": "execute_result"
    }
   ],
   "source": [
    "no_punct = []\n",
    "for i in you['filtered']:\n",
    "    no_punct.append([word for word in i if word not in string.punctuation])\n",
    "\n",
    "you['no_punct'] = no_punct\n",
    "you['no_punct'][1]"
   ]
  },
  {
   "cell_type": "code",
   "execution_count": 12,
   "id": "rolled-journalism",
   "metadata": {},
   "outputs": [
    {
     "data": {
      "text/plain": [
       "0     {'got': 1, 'moderna': 1, 'vaccine': 1, '’': 1,...\n",
       "1     {'charlotte': 1, 'haggerty': 1, 'really': 1, '...\n",
       "2     {'hate': 1, 'say': 1, '``': 1, 'want': 1, 'cov...\n",
       "3     {'sweet': 1, 'heart': 1, 'well': 1, 'quantas':...\n",
       "4     {'angryangy': 1, 'recommend': 1, 'flu': 5, 'sh...\n",
       "5     {'need': 3, 'corona': 1, 'vaccine': 1, 'comeba...\n",
       "6     {'idea': 1, 'guy': 1, 'prior': 1, 'interview':...\n",
       "7     {'angryangy': 1, 'zero': 1, 'medical': 1, 'tes...\n",
       "8     {'justin': 1, 'kirschenman': 1, 'know': 1, 'lo...\n",
       "9     {'remember': 1, 'french': 1, 'scientist': 1, '...\n",
       "10    {'angryangy': 1, ''ve': 1, 'said': 1, 'limit':...\n",
       "11    {'use': 1, 'brain': 1, 'please': 1, 'samiitb':...\n",
       "12    {'krish': 1, 'soni': 1, 'assuming': 1, 'englis...\n",
       "13    {'south': 1, 'african': 1, 'variant': 1, 'one'...\n",
       "14    {'part': 1, 'satan': 1, 'gates': 1, 'vaccine':...\n",
       "15    {'enough': 1, 'lies': 1, 'already': 1, 'patent...\n",
       "16    {'angryangy': 1, 'america': 3, 'different': 1,...\n",
       "17    {'love': 1, 'jre': 1, 'joe': 2, 'pretty': 2, '...\n",
       "18    {'charlie': 1, 'williamson': 1, 'look': 2, 'in...\n",
       "19    {'kristi': 1, 'allman': 1, 'first': 1, 'autism...\n",
       "Name: freqs1, dtype: object"
      ]
     },
     "execution_count": 12,
     "metadata": {},
     "output_type": "execute_result"
    }
   ],
   "source": [
    "freq1 = [FreqDist(x) for x in you['no_punct']]\n",
    "you['freqs1'] = freq1\n",
    "you['freqs1'].head(20)"
   ]
  },
  {
   "cell_type": "code",
   "execution_count": 13,
   "id": "innovative-yugoslavia",
   "metadata": {},
   "outputs": [
    {
     "data": {
      "text/plain": [
       "Counter({'charlotte': 1,\n",
       "         'haggerty': 1,\n",
       "         'really': 1,\n",
       "         'believe': 1,\n",
       "         'everything': 1,\n",
       "         'told': 1,\n",
       "         'vaccines': 1,\n",
       "         'end': 1,\n",
       "         'pandemic': 1,\n",
       "         'herd': 1,\n",
       "         'immunization': 1,\n",
       "         'however': 1,\n",
       "         'claim': 1,\n",
       "         'vaccine': 1,\n",
       "         'virus': 1,\n",
       "         'gone': 1,\n",
       "         'august': 1,\n",
       "         'btw': 1})"
      ]
     },
     "execution_count": 13,
     "metadata": {},
     "output_type": "execute_result"
    }
   ],
   "source": [
    "you['f1_counts'] = [Counter(x) for x in you['freqs1']]\n",
    "you['f1_counts'][1]"
   ]
  },
  {
   "cell_type": "code",
   "execution_count": 14,
   "id": "olive-scroll",
   "metadata": {},
   "outputs": [],
   "source": [
    "wordcounts = Counter()\n",
    "for i in you['f1_counts']:\n",
    "    wordcounts += i"
   ]
  },
  {
   "cell_type": "code",
   "execution_count": 15,
   "id": "opposite-draft",
   "metadata": {
    "scrolled": true
   },
   "outputs": [
    {
     "data": {
      "text/html": [
       "<div>\n",
       "<style scoped>\n",
       "    .dataframe tbody tr th:only-of-type {\n",
       "        vertical-align: middle;\n",
       "    }\n",
       "\n",
       "    .dataframe tbody tr th {\n",
       "        vertical-align: top;\n",
       "    }\n",
       "\n",
       "    .dataframe thead th {\n",
       "        text-align: right;\n",
       "    }\n",
       "</style>\n",
       "<table border=\"1\" class=\"dataframe\">\n",
       "  <thead>\n",
       "    <tr style=\"text-align: right;\">\n",
       "      <th></th>\n",
       "      <th>0</th>\n",
       "    </tr>\n",
       "  </thead>\n",
       "  <tbody>\n",
       "    <tr>\n",
       "      <th>got</th>\n",
       "      <td>705</td>\n",
       "    </tr>\n",
       "    <tr>\n",
       "      <th>moderna</th>\n",
       "      <td>378</td>\n",
       "    </tr>\n",
       "    <tr>\n",
       "      <th>vaccine</th>\n",
       "      <td>17251</td>\n",
       "    </tr>\n",
       "    <tr>\n",
       "      <th>’</th>\n",
       "      <td>5448</td>\n",
       "    </tr>\n",
       "    <tr>\n",
       "      <th>list</th>\n",
       "      <td>96</td>\n",
       "    </tr>\n",
       "  </tbody>\n",
       "</table>\n",
       "</div>"
      ],
      "text/plain": [
       "             0\n",
       "got        705\n",
       "moderna    378\n",
       "vaccine  17251\n",
       "’         5448\n",
       "list        96"
      ]
     },
     "execution_count": 15,
     "metadata": {},
     "output_type": "execute_result"
    }
   ],
   "source": [
    "counts = pd.DataFrame.from_dict(dict(wordcounts), orient='index')\n",
    "counts.head()"
   ]
  },
  {
   "cell_type": "code",
   "execution_count": 16,
   "id": "material-cocktail",
   "metadata": {},
   "outputs": [
    {
     "data": {
      "text/html": [
       "<div>\n",
       "<style scoped>\n",
       "    .dataframe tbody tr th:only-of-type {\n",
       "        vertical-align: middle;\n",
       "    }\n",
       "\n",
       "    .dataframe tbody tr th {\n",
       "        vertical-align: top;\n",
       "    }\n",
       "\n",
       "    .dataframe thead th {\n",
       "        text-align: right;\n",
       "    }\n",
       "</style>\n",
       "<table border=\"1\" class=\"dataframe\">\n",
       "  <thead>\n",
       "    <tr style=\"text-align: right;\">\n",
       "      <th></th>\n",
       "      <th>counts</th>\n",
       "    </tr>\n",
       "  </thead>\n",
       "  <tbody>\n",
       "    <tr>\n",
       "      <th>got</th>\n",
       "      <td>705</td>\n",
       "    </tr>\n",
       "    <tr>\n",
       "      <th>moderna</th>\n",
       "      <td>378</td>\n",
       "    </tr>\n",
       "    <tr>\n",
       "      <th>vaccine</th>\n",
       "      <td>17251</td>\n",
       "    </tr>\n",
       "    <tr>\n",
       "      <th>’</th>\n",
       "      <td>5448</td>\n",
       "    </tr>\n",
       "    <tr>\n",
       "      <th>list</th>\n",
       "      <td>96</td>\n",
       "    </tr>\n",
       "    <tr>\n",
       "      <th>...</th>\n",
       "      <td>...</td>\n",
       "    </tr>\n",
       "    <tr>\n",
       "      <th>adventure</th>\n",
       "      <td>1</td>\n",
       "    </tr>\n",
       "    <tr>\n",
       "      <th>hindi</th>\n",
       "      <td>1</td>\n",
       "    </tr>\n",
       "    <tr>\n",
       "      <th>urdu</th>\n",
       "      <td>1</td>\n",
       "    </tr>\n",
       "    <tr>\n",
       "      <th>👍💜👍</th>\n",
       "      <td>1</td>\n",
       "    </tr>\n",
       "    <tr>\n",
       "      <th>libel</th>\n",
       "      <td>1</td>\n",
       "    </tr>\n",
       "  </tbody>\n",
       "</table>\n",
       "<p>30528 rows × 1 columns</p>\n",
       "</div>"
      ],
      "text/plain": [
       "           counts\n",
       "got           705\n",
       "moderna       378\n",
       "vaccine     17251\n",
       "’            5448\n",
       "list           96\n",
       "...           ...\n",
       "adventure       1\n",
       "hindi           1\n",
       "urdu            1\n",
       "👍💜👍             1\n",
       "libel           1\n",
       "\n",
       "[30528 rows x 1 columns]"
      ]
     },
     "execution_count": 16,
     "metadata": {},
     "output_type": "execute_result"
    }
   ],
   "source": [
    "counts = counts.rename(columns = {0: 'counts'})\n",
    "counts"
   ]
  },
  {
   "cell_type": "code",
   "execution_count": 17,
   "id": "prescription-terror",
   "metadata": {},
   "outputs": [
    {
     "data": {
      "text/html": [
       "<div>\n",
       "<style scoped>\n",
       "    .dataframe tbody tr th:only-of-type {\n",
       "        vertical-align: middle;\n",
       "    }\n",
       "\n",
       "    .dataframe tbody tr th {\n",
       "        vertical-align: top;\n",
       "    }\n",
       "\n",
       "    .dataframe thead th {\n",
       "        text-align: right;\n",
       "    }\n",
       "</style>\n",
       "<table border=\"1\" class=\"dataframe\">\n",
       "  <thead>\n",
       "    <tr style=\"text-align: right;\">\n",
       "      <th></th>\n",
       "      <th>counts</th>\n",
       "    </tr>\n",
       "  </thead>\n",
       "  <tbody>\n",
       "    <tr>\n",
       "      <th>vaccine</th>\n",
       "      <td>17251</td>\n",
       "    </tr>\n",
       "    <tr>\n",
       "      <th>’</th>\n",
       "      <td>5448</td>\n",
       "    </tr>\n",
       "    <tr>\n",
       "      <th>people</th>\n",
       "      <td>4929</td>\n",
       "    </tr>\n",
       "    <tr>\n",
       "      <th>'s</th>\n",
       "      <td>4614</td>\n",
       "    </tr>\n",
       "    <tr>\n",
       "      <th>https</th>\n",
       "      <td>4469</td>\n",
       "    </tr>\n",
       "    <tr>\n",
       "      <th>...</th>\n",
       "      <td>...</td>\n",
       "    </tr>\n",
       "    <tr>\n",
       "      <th>thinkers</th>\n",
       "      <td>1</td>\n",
       "    </tr>\n",
       "    <tr>\n",
       "      <th>ivor</th>\n",
       "      <td>1</td>\n",
       "    </tr>\n",
       "    <tr>\n",
       "      <th>cummins</th>\n",
       "      <td>1</td>\n",
       "    </tr>\n",
       "    <tr>\n",
       "      <th>nerseries</th>\n",
       "      <td>1</td>\n",
       "    </tr>\n",
       "    <tr>\n",
       "      <th>libel</th>\n",
       "      <td>1</td>\n",
       "    </tr>\n",
       "  </tbody>\n",
       "</table>\n",
       "<p>30528 rows × 1 columns</p>\n",
       "</div>"
      ],
      "text/plain": [
       "           counts\n",
       "vaccine     17251\n",
       "’            5448\n",
       "people       4929\n",
       "'s           4614\n",
       "https        4469\n",
       "...           ...\n",
       "thinkers        1\n",
       "ivor            1\n",
       "cummins         1\n",
       "nerseries       1\n",
       "libel           1\n",
       "\n",
       "[30528 rows x 1 columns]"
      ]
     },
     "execution_count": 17,
     "metadata": {},
     "output_type": "execute_result"
    }
   ],
   "source": [
    "count_sort = counts.sort_values('counts', ascending = False)\n",
    "count_sort"
   ]
  },
  {
   "cell_type": "code",
   "execution_count": null,
   "id": "conceptual-image",
   "metadata": {},
   "outputs": [],
   "source": [
    "fig, ax0 = plt.subplots(figsize=(15,10))\n",
    "ax0.bar(count_sort.index, count_sort['counts'])\n",
    "plt.xticks(rotation=90, fontsize = 'small')\n",
    "plt.show()"
   ]
  },
  {
   "cell_type": "code",
   "execution_count": 18,
   "id": "quantitative-skirt",
   "metadata": {},
   "outputs": [],
   "source": [
    "stemmer = nltk.stem.SnowballStemmer(\"english\")\n",
    "stems = []\n",
    "for i in you['no_punct']:\n",
    "    stems.append([stemmer.stem(word) for word in i])\n",
    "    \n",
    "you['stemmed'] = stems"
   ]
  },
  {
   "cell_type": "code",
   "execution_count": 19,
   "id": "saving-walter",
   "metadata": {},
   "outputs": [
    {
     "data": {
      "text/plain": [
       "0        {'got': 1, 'moderna': 1, 'vaccin': 1, '’': 1, ...\n",
       "1        {'charlott': 1, 'haggerti': 1, 'realli': 1, 'b...\n",
       "2        {'hate': 1, 'say': 1, '``': 1, 'want': 1, 'cov...\n",
       "3        {'sweet': 1, 'heart': 1, 'well': 1, 'quanta': ...\n",
       "4        {'angryangi': 1, 'recommend': 1, 'flu': 5, 'sh...\n",
       "                               ...                        \n",
       "12486    {'pfizer': 1, 'fine': 1, 'corpor': 1, 'us': 1,...\n",
       "12487    {'women': 1, 'first': 3, 'person': 2, 'get': 1...\n",
       "12488    {'breast': 1, 'cancer': 1, 'survivor': 1, 'goo...\n",
       "12489    {'panel': 1, 'member': 1, 'first': 1, 'get': 1...\n",
       "12490    {'tom': 1, 'r': 1, 'wo': 1, 'return': 1, 'easi...\n",
       "Name: freqs2, Length: 12491, dtype: object"
      ]
     },
     "execution_count": 19,
     "metadata": {},
     "output_type": "execute_result"
    }
   ],
   "source": [
    "freq2 = [FreqDist(x) for x in you['stemmed']]\n",
    "you['freqs2'] = freq2\n",
    "you['freqs2']"
   ]
  },
  {
   "cell_type": "code",
   "execution_count": 23,
   "id": "governmental-phoenix",
   "metadata": {},
   "outputs": [
    {
     "data": {
      "text/plain": [
       "Counter({'charlott': 1,\n",
       "         'haggerti': 1,\n",
       "         'realli': 1,\n",
       "         'believ': 1,\n",
       "         'everyth': 1,\n",
       "         'told': 1,\n",
       "         'vaccin': 2,\n",
       "         'end': 1,\n",
       "         'pandem': 1,\n",
       "         'herd': 1,\n",
       "         'immun': 1,\n",
       "         'howev': 1,\n",
       "         'claim': 1,\n",
       "         'virus': 1,\n",
       "         'gone': 1,\n",
       "         'august': 1,\n",
       "         'btw': 1})"
      ]
     },
     "execution_count": 23,
     "metadata": {},
     "output_type": "execute_result"
    }
   ],
   "source": [
    "you['f2_counts'] = [Counter(x) for x in you['freqs2']]\n",
    "you['f2_counts'][1]"
   ]
  },
  {
   "cell_type": "code",
   "execution_count": 24,
   "id": "driving-wrist",
   "metadata": {},
   "outputs": [],
   "source": [
    "wordcounts = Counter()\n",
    "for i in you['f2_counts']:\n",
    "    wordcounts += i"
   ]
  },
  {
   "cell_type": "code",
   "execution_count": 25,
   "id": "challenging-mounting",
   "metadata": {},
   "outputs": [
    {
     "data": {
      "text/html": [
       "<div>\n",
       "<style scoped>\n",
       "    .dataframe tbody tr th:only-of-type {\n",
       "        vertical-align: middle;\n",
       "    }\n",
       "\n",
       "    .dataframe tbody tr th {\n",
       "        vertical-align: top;\n",
       "    }\n",
       "\n",
       "    .dataframe thead th {\n",
       "        text-align: right;\n",
       "    }\n",
       "</style>\n",
       "<table border=\"1\" class=\"dataframe\">\n",
       "  <thead>\n",
       "    <tr style=\"text-align: right;\">\n",
       "      <th></th>\n",
       "      <th>0</th>\n",
       "    </tr>\n",
       "  </thead>\n",
       "  <tbody>\n",
       "    <tr>\n",
       "      <th>got</th>\n",
       "      <td>706</td>\n",
       "    </tr>\n",
       "    <tr>\n",
       "      <th>moderna</th>\n",
       "      <td>378</td>\n",
       "    </tr>\n",
       "    <tr>\n",
       "      <th>vaccin</th>\n",
       "      <td>20729</td>\n",
       "    </tr>\n",
       "    <tr>\n",
       "      <th>’</th>\n",
       "      <td>5448</td>\n",
       "    </tr>\n",
       "    <tr>\n",
       "      <th>list</th>\n",
       "      <td>150</td>\n",
       "    </tr>\n",
       "    <tr>\n",
       "      <th>...</th>\n",
       "      <td>...</td>\n",
       "    </tr>\n",
       "    <tr>\n",
       "      <th>//www.mdpi.com/1660-4601/17/22/8674</th>\n",
       "      <td>1</td>\n",
       "    </tr>\n",
       "    <tr>\n",
       "      <th>adventur</th>\n",
       "      <td>1</td>\n",
       "    </tr>\n",
       "    <tr>\n",
       "      <th>hindi</th>\n",
       "      <td>1</td>\n",
       "    </tr>\n",
       "    <tr>\n",
       "      <th>urdu</th>\n",
       "      <td>1</td>\n",
       "    </tr>\n",
       "    <tr>\n",
       "      <th>👍💜👍</th>\n",
       "      <td>1</td>\n",
       "    </tr>\n",
       "  </tbody>\n",
       "</table>\n",
       "<p>23087 rows × 1 columns</p>\n",
       "</div>"
      ],
      "text/plain": [
       "                                         0\n",
       "got                                    706\n",
       "moderna                                378\n",
       "vaccin                               20729\n",
       "’                                     5448\n",
       "list                                   150\n",
       "...                                    ...\n",
       "//www.mdpi.com/1660-4601/17/22/8674      1\n",
       "adventur                                 1\n",
       "hindi                                    1\n",
       "urdu                                     1\n",
       "👍💜👍                                      1\n",
       "\n",
       "[23087 rows x 1 columns]"
      ]
     },
     "execution_count": 25,
     "metadata": {},
     "output_type": "execute_result"
    }
   ],
   "source": [
    "counts2 = pd.DataFrame.from_dict(dict(wordcounts), orient='index')\n",
    "counts2"
   ]
  },
  {
   "cell_type": "code",
   "execution_count": 32,
   "id": "solid-angel",
   "metadata": {},
   "outputs": [
    {
     "data": {
      "text/html": [
       "<div>\n",
       "<style scoped>\n",
       "    .dataframe tbody tr th:only-of-type {\n",
       "        vertical-align: middle;\n",
       "    }\n",
       "\n",
       "    .dataframe tbody tr th {\n",
       "        vertical-align: top;\n",
       "    }\n",
       "\n",
       "    .dataframe thead th {\n",
       "        text-align: right;\n",
       "    }\n",
       "</style>\n",
       "<table border=\"1\" class=\"dataframe\">\n",
       "  <thead>\n",
       "    <tr style=\"text-align: right;\">\n",
       "      <th></th>\n",
       "      <th>counts</th>\n",
       "    </tr>\n",
       "  </thead>\n",
       "  <tbody>\n",
       "    <tr>\n",
       "      <th>got</th>\n",
       "      <td>706</td>\n",
       "    </tr>\n",
       "    <tr>\n",
       "      <th>moderna</th>\n",
       "      <td>378</td>\n",
       "    </tr>\n",
       "    <tr>\n",
       "      <th>vaccin</th>\n",
       "      <td>20729</td>\n",
       "    </tr>\n",
       "    <tr>\n",
       "      <th>’</th>\n",
       "      <td>5448</td>\n",
       "    </tr>\n",
       "    <tr>\n",
       "      <th>list</th>\n",
       "      <td>150</td>\n",
       "    </tr>\n",
       "    <tr>\n",
       "      <th>...</th>\n",
       "      <td>...</td>\n",
       "    </tr>\n",
       "    <tr>\n",
       "      <th>//www.mdpi.com/1660-4601/17/22/8674</th>\n",
       "      <td>1</td>\n",
       "    </tr>\n",
       "    <tr>\n",
       "      <th>adventur</th>\n",
       "      <td>1</td>\n",
       "    </tr>\n",
       "    <tr>\n",
       "      <th>hindi</th>\n",
       "      <td>1</td>\n",
       "    </tr>\n",
       "    <tr>\n",
       "      <th>urdu</th>\n",
       "      <td>1</td>\n",
       "    </tr>\n",
       "    <tr>\n",
       "      <th>👍💜👍</th>\n",
       "      <td>1</td>\n",
       "    </tr>\n",
       "  </tbody>\n",
       "</table>\n",
       "<p>23087 rows × 1 columns</p>\n",
       "</div>"
      ],
      "text/plain": [
       "                                     counts\n",
       "got                                     706\n",
       "moderna                                 378\n",
       "vaccin                                20729\n",
       "’                                      5448\n",
       "list                                    150\n",
       "...                                     ...\n",
       "//www.mdpi.com/1660-4601/17/22/8674       1\n",
       "adventur                                  1\n",
       "hindi                                     1\n",
       "urdu                                      1\n",
       "👍💜👍                                       1\n",
       "\n",
       "[23087 rows x 1 columns]"
      ]
     },
     "execution_count": 32,
     "metadata": {},
     "output_type": "execute_result"
    }
   ],
   "source": [
    "counts2 = counts2.rename(columns = {0: 'counts'})\n",
    "counts2"
   ]
  },
  {
   "cell_type": "code",
   "execution_count": 34,
   "id": "frequent-order",
   "metadata": {
    "scrolled": true
   },
   "outputs": [
    {
     "data": {
      "text/html": [
       "<div>\n",
       "<style scoped>\n",
       "    .dataframe tbody tr th:only-of-type {\n",
       "        vertical-align: middle;\n",
       "    }\n",
       "\n",
       "    .dataframe tbody tr th {\n",
       "        vertical-align: top;\n",
       "    }\n",
       "\n",
       "    .dataframe thead th {\n",
       "        text-align: right;\n",
       "    }\n",
       "</style>\n",
       "<table border=\"1\" class=\"dataframe\">\n",
       "  <thead>\n",
       "    <tr style=\"text-align: right;\">\n",
       "      <th></th>\n",
       "      <th>counts</th>\n",
       "    </tr>\n",
       "  </thead>\n",
       "  <tbody>\n",
       "    <tr>\n",
       "      <th>vaccin</th>\n",
       "      <td>20729</td>\n",
       "    </tr>\n",
       "    <tr>\n",
       "      <th>’</th>\n",
       "      <td>5448</td>\n",
       "    </tr>\n",
       "    <tr>\n",
       "      <th>peopl</th>\n",
       "      <td>4975</td>\n",
       "    </tr>\n",
       "    <tr>\n",
       "      <th>'s</th>\n",
       "      <td>4614</td>\n",
       "    </tr>\n",
       "    <tr>\n",
       "      <th>https</th>\n",
       "      <td>4469</td>\n",
       "    </tr>\n",
       "    <tr>\n",
       "      <th>get</th>\n",
       "      <td>4235</td>\n",
       "    </tr>\n",
       "    <tr>\n",
       "      <th>take</th>\n",
       "      <td>3917</td>\n",
       "    </tr>\n",
       "    <tr>\n",
       "      <th>virus</th>\n",
       "      <td>3090</td>\n",
       "    </tr>\n",
       "    <tr>\n",
       "      <th>``</th>\n",
       "      <td>2983</td>\n",
       "    </tr>\n",
       "    <tr>\n",
       "      <th>''</th>\n",
       "      <td>2975</td>\n",
       "    </tr>\n",
       "  </tbody>\n",
       "</table>\n",
       "</div>"
      ],
      "text/plain": [
       "        counts\n",
       "vaccin   20729\n",
       "’         5448\n",
       "peopl     4975\n",
       "'s        4614\n",
       "https     4469\n",
       "get       4235\n",
       "take      3917\n",
       "virus     3090\n",
       "``        2983\n",
       "''        2975"
      ]
     },
     "execution_count": 34,
     "metadata": {},
     "output_type": "execute_result"
    }
   ],
   "source": [
    "count_sort2 = counts2.sort_values('counts', ascending = False)\n",
    "count_sort2.head(10)"
   ]
  },
  {
   "cell_type": "code",
   "execution_count": null,
   "id": "realistic-mentor",
   "metadata": {},
   "outputs": [],
   "source": [
    "fig, ax1 = plt.subplots(figsize=(10,10))\n",
    "ax1.bar(count_sort2.index, count_sort2['counts'])\n",
    "plt.xticks(rotation=90, fontsize = 'medium')\n",
    "plt.show()"
   ]
  },
  {
   "cell_type": "code",
   "execution_count": null,
   "id": "flexible-setting",
   "metadata": {},
   "outputs": [],
   "source": []
  }
 ],
 "metadata": {
  "kernelspec": {
   "display_name": "Python 3",
   "language": "python",
   "name": "python3"
  },
  "language_info": {
   "codemirror_mode": {
    "name": "ipython",
    "version": 3
   },
   "file_extension": ".py",
   "mimetype": "text/x-python",
   "name": "python",
   "nbconvert_exporter": "python",
   "pygments_lexer": "ipython3",
   "version": "3.9.1"
  }
 },
 "nbformat": 4,
 "nbformat_minor": 5
}
