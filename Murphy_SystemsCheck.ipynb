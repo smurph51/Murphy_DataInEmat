{
 "cells": [
  {
   "cell_type": "code",
   "execution_count": 4,
   "metadata": {},
   "outputs": [],
   "source": [
    "x = range(10)"
   ]
  },
  {
   "cell_type": "code",
   "execution_count": 5,
   "metadata": {},
   "outputs": [],
   "source": [
    "y = []\n",
    "for i in x:\n",
    "    y.append(i+3)"
   ]
  },
  {
   "cell_type": "code",
   "execution_count": 6,
   "metadata": {},
   "outputs": [
    {
     "name": "stdout",
     "output_type": "stream",
     "text": [
      "range(0, 10) [3, 4, 5, 6, 7, 8, 9, 10, 11, 12]\n"
     ]
    }
   ],
   "source": [
    "print(x, y)"
   ]
  },
  {
   "cell_type": "code",
   "execution_count": 7,
   "metadata": {},
   "outputs": [
    {
     "data": {
      "text/plain": [
       "[0, 1, 2, 3, 4, 5, 6, 7, 8, 9]"
      ]
     },
     "execution_count": 7,
     "metadata": {},
     "output_type": "execute_result"
    }
   ],
   "source": [
    "def subthree (x):\n",
    "    return x-3\n",
    "\n",
    "[subthree(i) for i in y]\n"
   ]
  },
  {
   "cell_type": "markdown",
   "metadata": {},
   "source": [
    "# What I want to get out of Data in Emat\n",
    "\n",
    "Some of the things I would like to gain from this class are as follows:\n",
    "\n",
    "1. **A greater understanding of Python and data in general, along with how data can apply to the software we are using in class.**\n",
    "2. **How data will be used further down the line in my degree or a potential job setting.**\n",
    "3. **Terminology and slang relative to data, Anaconda/Python, and the computer world in general so I can better communicate with those who are more experienced then I am.**\n",
    "\n",
    "Here is a photo of a guy with his thumbs up - this is a representation of how I am feeling about this class and semester in general at the moment.\n",
    "\n",
    "https://www.pikpng.com/pngl/b/358-3586805_thumbs-up-guy-good-guy-vapes-clipart.png\n",
    "\n"
   ]
  },
  {
   "cell_type": "code",
   "execution_count": null,
   "metadata": {},
   "outputs": [],
   "source": []
  }
 ],
 "metadata": {
  "kernelspec": {
   "display_name": "Python 3",
   "language": "python",
   "name": "python3"
  },
  "language_info": {
   "codemirror_mode": {
    "name": "ipython",
    "version": 3
   },
   "file_extension": ".py",
   "mimetype": "text/x-python",
   "name": "python",
   "nbconvert_exporter": "python",
   "pygments_lexer": "ipython3",
   "version": "3.9.1"
  }
 },
 "nbformat": 4,
 "nbformat_minor": 4
}
